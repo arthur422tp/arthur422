{
 "cells": [
  {
   "cell_type": "code",
   "execution_count": null,
   "metadata": {},
   "outputs": [],
   "source": [
    "import pickle\n",
    "from src.utils.text_chunking import *\n",
    "from sentence_transformers import util\n",
    "\n",
    "import os\n",
    "import chardet\n",
    "\n",
    "from src.utils.retrievals import *\n"
   ]
  },
  {
   "cell_type": "code",
   "execution_count": 2,
   "metadata": {},
   "outputs": [],
   "source": [
    "with open(r\"C:\\path\\to\\faq_embeddings\", 'rb') as f:\n",
    "    faq_embeddings =pickle.load(f)"
   ]
  },
  {
   "cell_type": "code",
   "execution_count": 3,
   "metadata": {},
   "outputs": [],
   "source": [
    "def detect_encoding(file_path):\n",
    "    with open(file_path, \"rb\") as f:\n",
    "        result = chardet.detect(f.read())\n",
    "        return result['encoding']\n",
    "    \n",
    "def read_txt(file_path):\n",
    "    encoding = detect_encoding(file_path)\n",
    "    with open(file_path, 'r', encoding=encoding) as f:\n",
    "        content = f.read()\n",
    "        return content\n",
    "\n",
    "def read_file(folder_path):\n",
    "    corpus = {}\n",
    "    files = [f for f in os.listdir(folder_path) if f.endswith(\".txt\")]\n",
    "    for file in files:\n",
    "        file_path = os.path.join(folder_path, file)\n",
    "        content = read_txt(file_path)\n",
    "        corpus[file] = content\n",
    "\n",
    "    return corpus"
   ]
  },
  {
   "cell_type": "code",
   "execution_count": 4,
   "metadata": {},
   "outputs": [],
   "source": [
    "corpus = read_file(folder_path =\"processed_data\")"
   ]
  },
  {
   "cell_type": "code",
   "execution_count": 7,
   "metadata": {},
   "outputs": [],
   "source": [
    "FAQ = corpus[\"FAQ.txt\"]"
   ]
  },
  {
   "cell_type": "code",
   "execution_count": 10,
   "metadata": {},
   "outputs": [],
   "source": [
    "chunking = Chunking(text=FAQ)\n",
    "faq = chunking.text_chunking(FAQ, separators=[\"KEYWORD\", \"KEYWORD\", \"KEYWORD\", \"KEYWORD\", \"KEYWORD\", \"KEYWORD\", \"KEYWORD\"], chunk_size=100, chunk_overlap=20)"
   ]
  },
  {
   "cell_type": "code",
   "execution_count": 17,
   "metadata": {},
   "outputs": [],
   "source": [
    "from fcmeans import FCM\n",
    "import matplotlib.pyplot as plt\n",
    "from sklearn.datasets import make_blobs\n",
    "import pandas as pd\n"
   ]
  },
  {
   "cell_type": "code",
   "execution_count": 27,
   "metadata": {},
   "outputs": [],
   "source": [
    "fcm = FCM(n_clusters=6, m=1.1)\n",
    "fcm.fit(faq_embeddings)"
   ]
  },
  {
   "cell_type": "code",
   "execution_count": 28,
   "metadata": {},
   "outputs": [],
   "source": [
    "centers = fcm.centers\n",
    "membership_matrix = fcm.u"
   ]
  },
  {
   "cell_type": "code",
   "execution_count": 29,
   "metadata": {},
   "outputs": [],
   "source": [
    "cluster_assignment = membership_matrix.argmax(axis=1)"
   ]
  },
  {
   "cell_type": "code",
   "execution_count": 30,
   "metadata": {},
   "outputs": [],
   "source": [
    "results = pd.DataFrame({\n",
    "    \"內文\": faq,\n",
    "    \"分布\": [membership_matrix[i] for i in range(len(membership_matrix))],\n",
    "    \"可能屬於\": cluster_assignment\n",
    "})"
   ]
  },
  {
   "cell_type": "code",
   "execution_count": null,
   "metadata": {},
   "outputs": [],
   "source": [
    "print(f\"文本分類:{results}\")"
   ]
  },
  {
   "cell_type": "code",
   "execution_count": 32,
   "metadata": {},
   "outputs": [],
   "source": [
    "membership_columns = [f\"第{i}類\" for i in range(membership_matrix.shape[1])]\n",
    "final_results = pd.DataFrame(membership_matrix, columns=membership_columns)\n",
    "final_results.insert(0, \"文本\", faq)\n",
    "final_results.insert(len(final_results.columns), \"可能屬於聚類\", cluster_assignment)"
   ]
  },
  {
   "cell_type": "code",
   "execution_count": 34,
   "metadata": {},
   "outputs": [],
   "source": [
    "final_results.to_csv(\"checking_cluster\", index=False, encoding='utf-8')"
   ]
  },
  {
   "cell_type": "code",
   "execution_count": null,
   "metadata": {},
   "outputs": [],
   "source": []
  }
 ],
 "metadata": {
  "kernelspec": {
   "display_name": "stt",
   "language": "python",
   "name": "python3"
  },
  "language_info": {
   "codemirror_mode": {
    "name": "ipython",
    "version": 3
   },
   "file_extension": ".py",
   "mimetype": "text/x-python",
   "name": "python",
   "nbconvert_exporter": "python",
   "pygments_lexer": "ipython3",
   "version": "3.11.3"
  },
  "orig_nbformat": 4
 },
 "nbformat": 4,
 "nbformat_minor": 2
}
