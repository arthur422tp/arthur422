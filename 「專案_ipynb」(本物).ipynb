{
  "nbformat": 4,
  "nbformat_minor": 0,
  "metadata": {
    "colab": {
      "provenance": [],
      "mount_file_id": "1g498rVavdSh5utK4SNjeBuzi6CsS4DW6",
      "authorship_tag": "ABX9TyMWpSXieVCqJnD+CajP6rfT",
      "include_colab_link": true
    },
    "kernelspec": {
      "name": "python3",
      "display_name": "Python 3"
    },
    "language_info": {
      "name": "python"
    }
  },
  "cells": [
    {
      "cell_type": "markdown",
      "metadata": {
        "id": "view-in-github",
        "colab_type": "text"
      },
      "source": [
        "<a href=\"https://colab.research.google.com/github/arthur422tp/arthur422/blob/master/%E3%80%8C%E5%B0%88%E6%A1%88_ipynb%E3%80%8D(%E6%9C%AC%E7%89%A9).ipynb\" target=\"_parent\"><img src=\"https://colab.research.google.com/assets/colab-badge.svg\" alt=\"Open In Colab\"/></a>"
      ]
    },
    {
      "cell_type": "code",
      "execution_count": 100,
      "metadata": {
        "id": "hGI7c9aUe5JK",
        "colab": {
          "base_uri": "https://localhost:8080/"
        },
        "outputId": "b885c41c-93c3-43a1-8724-bf3d1eeb0321"
      },
      "outputs": [
        {
          "output_type": "stream",
          "name": "stdout",
          "text": [
            "Looking in indexes: https://pypi.org/simple, https://us-python.pkg.dev/colab-wheels/public/simple/\n",
            "Requirement already satisfied: statsmodels in /usr/local/lib/python3.10/dist-packages (0.13.5)\n",
            "Requirement already satisfied: pandas>=0.25 in /usr/local/lib/python3.10/dist-packages (from statsmodels) (1.5.3)\n",
            "Requirement already satisfied: patsy>=0.5.2 in /usr/local/lib/python3.10/dist-packages (from statsmodels) (0.5.3)\n",
            "Requirement already satisfied: packaging>=21.3 in /usr/local/lib/python3.10/dist-packages (from statsmodels) (23.1)\n",
            "Requirement already satisfied: scipy>=1.3 in /usr/local/lib/python3.10/dist-packages (from statsmodels) (1.10.1)\n",
            "Requirement already satisfied: numpy>=1.17 in /usr/local/lib/python3.10/dist-packages (from statsmodels) (1.22.4)\n",
            "Requirement already satisfied: python-dateutil>=2.8.1 in /usr/local/lib/python3.10/dist-packages (from pandas>=0.25->statsmodels) (2.8.2)\n",
            "Requirement already satisfied: pytz>=2020.1 in /usr/local/lib/python3.10/dist-packages (from pandas>=0.25->statsmodels) (2022.7.1)\n",
            "Requirement already satisfied: six in /usr/local/lib/python3.10/dist-packages (from patsy>=0.5.2->statsmodels) (1.16.0)\n"
          ]
        }
      ],
      "source": [
        "import requests\n",
        "import bs4\n",
        "import pandas as pd\n",
        "from sklearn import linear_model\n",
        "import numpy as np\n",
        "import sklearn.preprocessing\n",
        "!pip install statsmodels"
      ]
    },
    {
      "cell_type": "code",
      "source": [
        "from google.colab import drive\n",
        "drive.mount('/content/drive')"
      ],
      "metadata": {
        "colab": {
          "base_uri": "https://localhost:8080/"
        },
        "id": "z7LAqwn-BEt_",
        "outputId": "0a23be4d-84b3-4a41-e7f3-7662bd8f39c3"
      },
      "execution_count": 101,
      "outputs": [
        {
          "output_type": "stream",
          "name": "stdout",
          "text": [
            "Drive already mounted at /content/drive; to attempt to forcibly remount, call drive.mount(\"/content/drive\", force_remount=True).\n"
          ]
        }
      ]
    },
    {
      "cell_type": "code",
      "source": [
        "data_1 = pd.read_excel('/content/drive/MyDrive/桃園樂天.xlsx')\n",
        "data_2 = pd.read_excel('/content/drive/MyDrive/桃園樂天.xlsx',sheet_name= '工作表2')\n",
        "data_combine = pd.read_excel('/content/drive/MyDrive/桃園樂天.xlsx',sheet_name= '工作表4')\n"
      ],
      "metadata": {
        "id": "3WKBFyuSgT9n"
      },
      "execution_count": 102,
      "outputs": []
    },
    {
      "cell_type": "code",
      "source": [
        "df_frame_1 = pd.DataFrame(data_1)\n",
        "df_frame_2 = pd.DataFrame(data_2)\n",
        "df_frame_data = pd.DataFrame(data_combine)"
      ],
      "metadata": {
        "id": "IX15UbKA3Oo5"
      },
      "execution_count": 103,
      "outputs": []
    },
    {
      "cell_type": "code",
      "source": [
        "df_frame_data"
      ],
      "metadata": {
        "id": "7B83Q--OsvM_",
        "colab": {
          "base_uri": "https://localhost:8080/",
          "height": 423
        },
        "outputId": "38235618-c6bc-48c5-e65d-ab7ee3d68740"
      },
      "execution_count": 104,
      "outputs": [
        {
          "output_type": "execute_result",
          "data": {
            "text/plain": [
              "      場次         日期   星期  球場        客隊(全壘打)(失誤) 主隊(全壘打)(失誤)   觀眾人數  襄  苡  妲  \\\n",
              "0     35 2021-04-03  (六)  桃園         中信兄弟(1)(1)  樂天桃猿(0)(1)  11513  0  0  1   \n",
              "1    258 2021-11-13  (六)  桃園  統一7-ELEVEn獅(0)(2)  樂天桃猿(0)(0)  10133  1  0  0   \n",
              "2     60 2021-04-17  (六)  桃園         中信兄弟(2)(1)  樂天桃猿(1)(1)   9378  1  1  1   \n",
              "3     37 2021-04-04  (日)  桃園         富邦悍將(0)(2)  樂天桃猿(0)(2)   8395  1  0  0   \n",
              "4     16 2021-03-23  (二)  桃園          味全龍(1)(0)  樂天桃猿(0)(1)   7884  1  1  0   \n",
              "..   ...        ...  ...  ..                ...         ...    ... .. .. ..   \n",
              "103   63 2022-05-10  (二)  桃園         富邦悍將(0)(2)  樂天桃猿(0)(0)   3662  0  1  1   \n",
              "104   27 2022-05-09  (一)  桃園         富邦悍將(0)(0)  樂天桃猿(0)(0)   3632  0  1  0   \n",
              "105   31 2022-04-21  (四)  桃園  統一7-ELEVEn獅(0)(0)  樂天桃猿(0)(1)   3621  1  0  1   \n",
              "106  247 2022-09-13  (二)  桃園         中信兄弟(2)(1)  樂天桃猿(0)(1)   3540  0  1  0   \n",
              "107   29 2022-04-20  (三)  桃園  統一7-ELEVEn獅(0)(1)  樂天桃猿(1)(2)   3038  0  0  0   \n",
              "\n",
              "                                                    女孩  Unnamed: 11  \\\n",
              "0    4/3  沐曲     鹿妲 芯舞      璐   凱孟        筠宣     紫霓...          NaN   \n",
              "1    11/13沐曲慧   鹿     舞        籃          菲 筠   伊襄 ...          NaN   \n",
              "2    4/17     慧     妲 芯舞   苡 璐        潼叡菲   宣 伊襄  霓...          NaN   \n",
              "3    4/4  沐  慧   鹿     舞卉    璐   凱孟     菲 筠宣 伊襄    ...          NaN   \n",
              "4    3/23   曲  倪 鹿       卉 苡   籃   孟     菲 筠   伊襄紫霓...          NaN   \n",
              "..                                                 ...          ...   \n",
              "103  5/10 曲  倪 縈妲   舞   苡 籃          菲        紫  樂 ...          NaN   \n",
              "104  5/9  曲     縈   芯舞   苡                   伊    霓...          NaN   \n",
              "105  4/21   慧     妲   舞         凱孟 潼  菲 筠 伊襄    樂  ...          NaN   \n",
              "106  9/13 曲慧倪        舞卉 苡 籃 凱孟     菲               ...          NaN   \n",
              "107  4/20 曲     縈   芯舞卉 苡                筠 伊  紫    ...          NaN   \n",
              "\n",
              "    Unnamed: 12  \n",
              "0           NaN  \n",
              "1           NaN  \n",
              "2           NaN  \n",
              "3           NaN  \n",
              "4           NaN  \n",
              "..          ...  \n",
              "103         NaN  \n",
              "104         NaN  \n",
              "105         NaN  \n",
              "106         阿迷趴  \n",
              "107         NaN  \n",
              "\n",
              "[108 rows x 13 columns]"
            ],
            "text/html": [
              "\n",
              "  <div id=\"df-8b24fb43-76ef-4836-83c2-a3a0aca37235\">\n",
              "    <div class=\"colab-df-container\">\n",
              "      <div>\n",
              "<style scoped>\n",
              "    .dataframe tbody tr th:only-of-type {\n",
              "        vertical-align: middle;\n",
              "    }\n",
              "\n",
              "    .dataframe tbody tr th {\n",
              "        vertical-align: top;\n",
              "    }\n",
              "\n",
              "    .dataframe thead th {\n",
              "        text-align: right;\n",
              "    }\n",
              "</style>\n",
              "<table border=\"1\" class=\"dataframe\">\n",
              "  <thead>\n",
              "    <tr style=\"text-align: right;\">\n",
              "      <th></th>\n",
              "      <th>場次</th>\n",
              "      <th>日期</th>\n",
              "      <th>星期</th>\n",
              "      <th>球場</th>\n",
              "      <th>客隊(全壘打)(失誤)</th>\n",
              "      <th>主隊(全壘打)(失誤)</th>\n",
              "      <th>觀眾人數</th>\n",
              "      <th>襄</th>\n",
              "      <th>苡</th>\n",
              "      <th>妲</th>\n",
              "      <th>女孩</th>\n",
              "      <th>Unnamed: 11</th>\n",
              "      <th>Unnamed: 12</th>\n",
              "    </tr>\n",
              "  </thead>\n",
              "  <tbody>\n",
              "    <tr>\n",
              "      <th>0</th>\n",
              "      <td>35</td>\n",
              "      <td>2021-04-03</td>\n",
              "      <td>(六)</td>\n",
              "      <td>桃園</td>\n",
              "      <td>中信兄弟(1)(1)</td>\n",
              "      <td>樂天桃猿(0)(1)</td>\n",
              "      <td>11513</td>\n",
              "      <td>0</td>\n",
              "      <td>0</td>\n",
              "      <td>1</td>\n",
              "      <td>4/3  沐曲     鹿妲 芯舞      璐   凱孟        筠宣     紫霓...</td>\n",
              "      <td>NaN</td>\n",
              "      <td>NaN</td>\n",
              "    </tr>\n",
              "    <tr>\n",
              "      <th>1</th>\n",
              "      <td>258</td>\n",
              "      <td>2021-11-13</td>\n",
              "      <td>(六)</td>\n",
              "      <td>桃園</td>\n",
              "      <td>統一7-ELEVEn獅(0)(2)</td>\n",
              "      <td>樂天桃猿(0)(0)</td>\n",
              "      <td>10133</td>\n",
              "      <td>1</td>\n",
              "      <td>0</td>\n",
              "      <td>0</td>\n",
              "      <td>11/13沐曲慧   鹿     舞        籃          菲 筠   伊襄 ...</td>\n",
              "      <td>NaN</td>\n",
              "      <td>NaN</td>\n",
              "    </tr>\n",
              "    <tr>\n",
              "      <th>2</th>\n",
              "      <td>60</td>\n",
              "      <td>2021-04-17</td>\n",
              "      <td>(六)</td>\n",
              "      <td>桃園</td>\n",
              "      <td>中信兄弟(2)(1)</td>\n",
              "      <td>樂天桃猿(1)(1)</td>\n",
              "      <td>9378</td>\n",
              "      <td>1</td>\n",
              "      <td>1</td>\n",
              "      <td>1</td>\n",
              "      <td>4/17     慧     妲 芯舞   苡 璐        潼叡菲   宣 伊襄  霓...</td>\n",
              "      <td>NaN</td>\n",
              "      <td>NaN</td>\n",
              "    </tr>\n",
              "    <tr>\n",
              "      <th>3</th>\n",
              "      <td>37</td>\n",
              "      <td>2021-04-04</td>\n",
              "      <td>(日)</td>\n",
              "      <td>桃園</td>\n",
              "      <td>富邦悍將(0)(2)</td>\n",
              "      <td>樂天桃猿(0)(2)</td>\n",
              "      <td>8395</td>\n",
              "      <td>1</td>\n",
              "      <td>0</td>\n",
              "      <td>0</td>\n",
              "      <td>4/4  沐  慧   鹿     舞卉    璐   凱孟     菲 筠宣 伊襄    ...</td>\n",
              "      <td>NaN</td>\n",
              "      <td>NaN</td>\n",
              "    </tr>\n",
              "    <tr>\n",
              "      <th>4</th>\n",
              "      <td>16</td>\n",
              "      <td>2021-03-23</td>\n",
              "      <td>(二)</td>\n",
              "      <td>桃園</td>\n",
              "      <td>味全龍(1)(0)</td>\n",
              "      <td>樂天桃猿(0)(1)</td>\n",
              "      <td>7884</td>\n",
              "      <td>1</td>\n",
              "      <td>1</td>\n",
              "      <td>0</td>\n",
              "      <td>3/23   曲  倪 鹿       卉 苡   籃   孟     菲 筠   伊襄紫霓...</td>\n",
              "      <td>NaN</td>\n",
              "      <td>NaN</td>\n",
              "    </tr>\n",
              "    <tr>\n",
              "      <th>...</th>\n",
              "      <td>...</td>\n",
              "      <td>...</td>\n",
              "      <td>...</td>\n",
              "      <td>...</td>\n",
              "      <td>...</td>\n",
              "      <td>...</td>\n",
              "      <td>...</td>\n",
              "      <td>...</td>\n",
              "      <td>...</td>\n",
              "      <td>...</td>\n",
              "      <td>...</td>\n",
              "      <td>...</td>\n",
              "      <td>...</td>\n",
              "    </tr>\n",
              "    <tr>\n",
              "      <th>103</th>\n",
              "      <td>63</td>\n",
              "      <td>2022-05-10</td>\n",
              "      <td>(二)</td>\n",
              "      <td>桃園</td>\n",
              "      <td>富邦悍將(0)(2)</td>\n",
              "      <td>樂天桃猿(0)(0)</td>\n",
              "      <td>3662</td>\n",
              "      <td>0</td>\n",
              "      <td>1</td>\n",
              "      <td>1</td>\n",
              "      <td>5/10 曲  倪 縈妲   舞   苡 籃          菲        紫  樂 ...</td>\n",
              "      <td>NaN</td>\n",
              "      <td>NaN</td>\n",
              "    </tr>\n",
              "    <tr>\n",
              "      <th>104</th>\n",
              "      <td>27</td>\n",
              "      <td>2022-05-09</td>\n",
              "      <td>(一)</td>\n",
              "      <td>桃園</td>\n",
              "      <td>富邦悍將(0)(0)</td>\n",
              "      <td>樂天桃猿(0)(0)</td>\n",
              "      <td>3632</td>\n",
              "      <td>0</td>\n",
              "      <td>1</td>\n",
              "      <td>0</td>\n",
              "      <td>5/9  曲     縈   芯舞   苡                   伊    霓...</td>\n",
              "      <td>NaN</td>\n",
              "      <td>NaN</td>\n",
              "    </tr>\n",
              "    <tr>\n",
              "      <th>105</th>\n",
              "      <td>31</td>\n",
              "      <td>2022-04-21</td>\n",
              "      <td>(四)</td>\n",
              "      <td>桃園</td>\n",
              "      <td>統一7-ELEVEn獅(0)(0)</td>\n",
              "      <td>樂天桃猿(0)(1)</td>\n",
              "      <td>3621</td>\n",
              "      <td>1</td>\n",
              "      <td>0</td>\n",
              "      <td>1</td>\n",
              "      <td>4/21   慧     妲   舞         凱孟 潼  菲 筠 伊襄    樂  ...</td>\n",
              "      <td>NaN</td>\n",
              "      <td>NaN</td>\n",
              "    </tr>\n",
              "    <tr>\n",
              "      <th>106</th>\n",
              "      <td>247</td>\n",
              "      <td>2022-09-13</td>\n",
              "      <td>(二)</td>\n",
              "      <td>桃園</td>\n",
              "      <td>中信兄弟(2)(1)</td>\n",
              "      <td>樂天桃猿(0)(1)</td>\n",
              "      <td>3540</td>\n",
              "      <td>0</td>\n",
              "      <td>1</td>\n",
              "      <td>0</td>\n",
              "      <td>9/13 曲慧倪        舞卉 苡 籃 凱孟     菲               ...</td>\n",
              "      <td>NaN</td>\n",
              "      <td>阿迷趴</td>\n",
              "    </tr>\n",
              "    <tr>\n",
              "      <th>107</th>\n",
              "      <td>29</td>\n",
              "      <td>2022-04-20</td>\n",
              "      <td>(三)</td>\n",
              "      <td>桃園</td>\n",
              "      <td>統一7-ELEVEn獅(0)(1)</td>\n",
              "      <td>樂天桃猿(1)(2)</td>\n",
              "      <td>3038</td>\n",
              "      <td>0</td>\n",
              "      <td>0</td>\n",
              "      <td>0</td>\n",
              "      <td>4/20 曲     縈   芯舞卉 苡                筠 伊  紫    ...</td>\n",
              "      <td>NaN</td>\n",
              "      <td>NaN</td>\n",
              "    </tr>\n",
              "  </tbody>\n",
              "</table>\n",
              "<p>108 rows × 13 columns</p>\n",
              "</div>\n",
              "      <button class=\"colab-df-convert\" onclick=\"convertToInteractive('df-8b24fb43-76ef-4836-83c2-a3a0aca37235')\"\n",
              "              title=\"Convert this dataframe to an interactive table.\"\n",
              "              style=\"display:none;\">\n",
              "        \n",
              "  <svg xmlns=\"http://www.w3.org/2000/svg\" height=\"24px\"viewBox=\"0 0 24 24\"\n",
              "       width=\"24px\">\n",
              "    <path d=\"M0 0h24v24H0V0z\" fill=\"none\"/>\n",
              "    <path d=\"M18.56 5.44l.94 2.06.94-2.06 2.06-.94-2.06-.94-.94-2.06-.94 2.06-2.06.94zm-11 1L8.5 8.5l.94-2.06 2.06-.94-2.06-.94L8.5 2.5l-.94 2.06-2.06.94zm10 10l.94 2.06.94-2.06 2.06-.94-2.06-.94-.94-2.06-.94 2.06-2.06.94z\"/><path d=\"M17.41 7.96l-1.37-1.37c-.4-.4-.92-.59-1.43-.59-.52 0-1.04.2-1.43.59L10.3 9.45l-7.72 7.72c-.78.78-.78 2.05 0 2.83L4 21.41c.39.39.9.59 1.41.59.51 0 1.02-.2 1.41-.59l7.78-7.78 2.81-2.81c.8-.78.8-2.07 0-2.86zM5.41 20L4 18.59l7.72-7.72 1.47 1.35L5.41 20z\"/>\n",
              "  </svg>\n",
              "      </button>\n",
              "      \n",
              "  <style>\n",
              "    .colab-df-container {\n",
              "      display:flex;\n",
              "      flex-wrap:wrap;\n",
              "      gap: 12px;\n",
              "    }\n",
              "\n",
              "    .colab-df-convert {\n",
              "      background-color: #E8F0FE;\n",
              "      border: none;\n",
              "      border-radius: 50%;\n",
              "      cursor: pointer;\n",
              "      display: none;\n",
              "      fill: #1967D2;\n",
              "      height: 32px;\n",
              "      padding: 0 0 0 0;\n",
              "      width: 32px;\n",
              "    }\n",
              "\n",
              "    .colab-df-convert:hover {\n",
              "      background-color: #E2EBFA;\n",
              "      box-shadow: 0px 1px 2px rgba(60, 64, 67, 0.3), 0px 1px 3px 1px rgba(60, 64, 67, 0.15);\n",
              "      fill: #174EA6;\n",
              "    }\n",
              "\n",
              "    [theme=dark] .colab-df-convert {\n",
              "      background-color: #3B4455;\n",
              "      fill: #D2E3FC;\n",
              "    }\n",
              "\n",
              "    [theme=dark] .colab-df-convert:hover {\n",
              "      background-color: #434B5C;\n",
              "      box-shadow: 0px 1px 3px 1px rgba(0, 0, 0, 0.15);\n",
              "      filter: drop-shadow(0px 1px 2px rgba(0, 0, 0, 0.3));\n",
              "      fill: #FFFFFF;\n",
              "    }\n",
              "  </style>\n",
              "\n",
              "      <script>\n",
              "        const buttonEl =\n",
              "          document.querySelector('#df-8b24fb43-76ef-4836-83c2-a3a0aca37235 button.colab-df-convert');\n",
              "        buttonEl.style.display =\n",
              "          google.colab.kernel.accessAllowed ? 'block' : 'none';\n",
              "\n",
              "        async function convertToInteractive(key) {\n",
              "          const element = document.querySelector('#df-8b24fb43-76ef-4836-83c2-a3a0aca37235');\n",
              "          const dataTable =\n",
              "            await google.colab.kernel.invokeFunction('convertToInteractive',\n",
              "                                                     [key], {});\n",
              "          if (!dataTable) return;\n",
              "\n",
              "          const docLinkHtml = 'Like what you see? Visit the ' +\n",
              "            '<a target=\"_blank\" href=https://colab.research.google.com/notebooks/data_table.ipynb>data table notebook</a>'\n",
              "            + ' to learn more about interactive tables.';\n",
              "          element.innerHTML = '';\n",
              "          dataTable['output_type'] = 'display_data';\n",
              "          await google.colab.output.renderOutput(dataTable, element);\n",
              "          const docLink = document.createElement('div');\n",
              "          docLink.innerHTML = docLinkHtml;\n",
              "          element.appendChild(docLink);\n",
              "        }\n",
              "      </script>\n",
              "    </div>\n",
              "  </div>\n",
              "  "
            ]
          },
          "metadata": {},
          "execution_count": 104
        }
      ]
    },
    {
      "cell_type": "code",
      "source": [
        "from sklearn.linear_model import LogisticRegression"
      ],
      "metadata": {
        "id": "fJgtLEjDgaRQ"
      },
      "execution_count": 105,
      "outputs": []
    },
    {
      "cell_type": "code",
      "source": [
        "interest_columns = ['襄', '苡', '妲']\n",
        "X1 = df_frame_1[interest_columns]\n",
        "X2 = df_frame_2[interest_columns]\n",
        "X = df_frame_data[interest_columns]"
      ],
      "metadata": {
        "id": "NHkhpsBRD5jU"
      },
      "execution_count": 106,
      "outputs": []
    },
    {
      "cell_type": "code",
      "source": [
        "Y1 = df_frame_1[['觀眾人數']]\n",
        "Y2 = df_frame_2[['觀眾人數']]\n",
        "Y = df_frame_data[['觀眾人數']]"
      ],
      "metadata": {
        "id": "W4uVomhpehpY"
      },
      "execution_count": 107,
      "outputs": []
    },
    {
      "cell_type": "code",
      "source": [
        "threshold = 3180  # 以 10 為閾值進行二元分類\n",
        "Y1 = np.where(Y1 >= threshold, 1, 0)"
      ],
      "metadata": {
        "id": "LpGbFkDGA17b"
      },
      "execution_count": 108,
      "outputs": []
    },
    {
      "cell_type": "code",
      "source": [
        "threshold = 4903  # 以 10 為閾值進行二元分類\n",
        "Y2 = np.where(Y2 >= threshold, 1, 0)"
      ],
      "metadata": {
        "id": "7fw4F5_hBHBm"
      },
      "execution_count": 109,
      "outputs": []
    },
    {
      "cell_type": "code",
      "source": [
        "Y_ = np.vstack((Y1, Y2))\n",
        "print(Y_)"
      ],
      "metadata": {
        "colab": {
          "base_uri": "https://localhost:8080/"
        },
        "id": "xufzfzNFBNLA",
        "outputId": "ce35006e-e597-4b56-e7dd-b3f70efa15bb"
      },
      "execution_count": 110,
      "outputs": [
        {
          "output_type": "stream",
          "name": "stdout",
          "text": [
            "[[1]\n",
            " [1]\n",
            " [1]\n",
            " [1]\n",
            " [1]\n",
            " [1]\n",
            " [1]\n",
            " [1]\n",
            " [1]\n",
            " [1]\n",
            " [1]\n",
            " [1]\n",
            " [1]\n",
            " [1]\n",
            " [1]\n",
            " [1]\n",
            " [1]\n",
            " [1]\n",
            " [1]\n",
            " [1]\n",
            " [1]\n",
            " [1]\n",
            " [1]\n",
            " [1]\n",
            " [1]\n",
            " [1]\n",
            " [0]\n",
            " [0]\n",
            " [0]\n",
            " [0]\n",
            " [0]\n",
            " [0]\n",
            " [0]\n",
            " [0]\n",
            " [0]\n",
            " [0]\n",
            " [0]\n",
            " [0]\n",
            " [0]\n",
            " [0]\n",
            " [0]\n",
            " [0]\n",
            " [0]\n",
            " [0]\n",
            " [0]\n",
            " [0]\n",
            " [0]\n",
            " [0]\n",
            " [1]\n",
            " [1]\n",
            " [1]\n",
            " [1]\n",
            " [1]\n",
            " [1]\n",
            " [1]\n",
            " [1]\n",
            " [1]\n",
            " [1]\n",
            " [1]\n",
            " [1]\n",
            " [1]\n",
            " [1]\n",
            " [1]\n",
            " [1]\n",
            " [1]\n",
            " [1]\n",
            " [1]\n",
            " [1]\n",
            " [1]\n",
            " [1]\n",
            " [1]\n",
            " [1]\n",
            " [1]\n",
            " [1]\n",
            " [1]\n",
            " [1]\n",
            " [1]\n",
            " [1]\n",
            " [1]\n",
            " [1]\n",
            " [1]\n",
            " [1]\n",
            " [1]\n",
            " [1]\n",
            " [1]\n",
            " [1]\n",
            " [1]\n",
            " [1]\n",
            " [1]\n",
            " [1]\n",
            " [0]\n",
            " [0]\n",
            " [0]\n",
            " [0]\n",
            " [0]\n",
            " [0]\n",
            " [0]\n",
            " [0]\n",
            " [0]\n",
            " [0]\n",
            " [0]\n",
            " [0]\n",
            " [0]\n",
            " [0]\n",
            " [0]\n",
            " [0]\n",
            " [0]\n",
            " [0]]\n"
          ]
        }
      ]
    },
    {
      "cell_type": "code",
      "source": [
        "from sklearn.model_selection import train_test_split\n",
        "X_train, X_test, Y_train, Y_test = train_test_split(X, Y_, test_size=0.2, random_state=42)"
      ],
      "metadata": {
        "id": "VOmhCPv16OiP"
      },
      "execution_count": 111,
      "outputs": []
    },
    {
      "cell_type": "code",
      "source": [
        "print(X_train)"
      ],
      "metadata": {
        "colab": {
          "base_uri": "https://localhost:8080/"
        },
        "id": "6C5l3L6EHS22",
        "outputId": "04b1e1e7-21b0-4e1e-b1a9-da1c297526c8"
      },
      "execution_count": 112,
      "outputs": [
        {
          "output_type": "stream",
          "name": "stdout",
          "text": [
            "     襄  苡  妲\n",
            "64   0  1  1\n",
            "26   0  0  1\n",
            "22   1  0  1\n",
            "31   1  1  1\n",
            "47   0  0  1\n",
            "..  .. .. ..\n",
            "71   0  0  1\n",
            "14   0  0  1\n",
            "92   1  0  1\n",
            "51   0  1  0\n",
            "102  1  1  0\n",
            "\n",
            "[86 rows x 3 columns]\n"
          ]
        }
      ]
    },
    {
      "cell_type": "code",
      "source": [
        "print('Samples of X:', X_train[:5])\n",
        "print('Sample of Y:', Y_train[:5])"
      ],
      "metadata": {
        "colab": {
          "base_uri": "https://localhost:8080/"
        },
        "id": "GGZQuG1qf-TL",
        "outputId": "d2eea0e6-b218-45db-e4c4-5c3a1027da62"
      },
      "execution_count": 113,
      "outputs": [
        {
          "output_type": "stream",
          "name": "stdout",
          "text": [
            "Samples of X:     襄  苡  妲\n",
            "64  0  1  1\n",
            "26  0  0  1\n",
            "22  1  0  1\n",
            "31  1  1  1\n",
            "47  0  0  1\n",
            "Sample of Y: [[1]\n",
            " [0]\n",
            " [1]\n",
            " [0]\n",
            " [0]]\n"
          ]
        }
      ]
    },
    {
      "cell_type": "code",
      "source": [],
      "metadata": {
        "id": "__r7Ln6EgFHb"
      },
      "execution_count": 113,
      "outputs": []
    },
    {
      "cell_type": "code",
      "source": [
        "X_train.shape"
      ],
      "metadata": {
        "id": "bKaPRsL1g79C",
        "colab": {
          "base_uri": "https://localhost:8080/"
        },
        "outputId": "15b2d5f5-c9de-4788-8b6f-71afdab43dc4"
      },
      "execution_count": 114,
      "outputs": [
        {
          "output_type": "execute_result",
          "data": {
            "text/plain": [
              "(86, 3)"
            ]
          },
          "metadata": {},
          "execution_count": 114
        }
      ]
    },
    {
      "cell_type": "code",
      "source": [
        "Y_train.shape"
      ],
      "metadata": {
        "colab": {
          "base_uri": "https://localhost:8080/"
        },
        "id": "VopsspP8i9at",
        "outputId": "a02fe80d-5759-4d5b-c423-082e61578fb2"
      },
      "execution_count": 115,
      "outputs": [
        {
          "output_type": "execute_result",
          "data": {
            "text/plain": [
              "(86, 1)"
            ]
          },
          "metadata": {},
          "execution_count": 115
        }
      ]
    },
    {
      "cell_type": "code",
      "source": [],
      "metadata": {
        "id": "fq-inC86irWo"
      },
      "execution_count": 115,
      "outputs": []
    },
    {
      "cell_type": "code",
      "source": [
        "print(Y_test)"
      ],
      "metadata": {
        "colab": {
          "base_uri": "https://localhost:8080/"
        },
        "id": "XKRjD8zROQKl",
        "outputId": "126032ed-31f2-4e50-9cb5-fb802cc0b0c8"
      },
      "execution_count": 116,
      "outputs": [
        {
          "output_type": "stream",
          "name": "stdout",
          "text": [
            "[[1]\n",
            " [1]\n",
            " [1]\n",
            " [1]\n",
            " [1]\n",
            " [1]\n",
            " [0]\n",
            " [0]\n",
            " [0]\n",
            " [1]\n",
            " [1]\n",
            " [1]\n",
            " [1]\n",
            " [1]\n",
            " [1]\n",
            " [1]\n",
            " [1]\n",
            " [1]\n",
            " [0]\n",
            " [0]\n",
            " [1]\n",
            " [0]]\n"
          ]
        }
      ]
    },
    {
      "cell_type": "code",
      "source": [
        "print(Y_train)"
      ],
      "metadata": {
        "colab": {
          "base_uri": "https://localhost:8080/"
        },
        "id": "Hl0H3izKNlfC",
        "outputId": "df1d472a-4ef6-49c9-9a01-b0d43d40d031"
      },
      "execution_count": 117,
      "outputs": [
        {
          "output_type": "stream",
          "name": "stdout",
          "text": [
            "[[1]\n",
            " [0]\n",
            " [1]\n",
            " [0]\n",
            " [0]\n",
            " [0]\n",
            " [1]\n",
            " [0]\n",
            " [1]\n",
            " [1]\n",
            " [1]\n",
            " [0]\n",
            " [1]\n",
            " [0]\n",
            " [0]\n",
            " [0]\n",
            " [1]\n",
            " [1]\n",
            " [0]\n",
            " [0]\n",
            " [0]\n",
            " [1]\n",
            " [1]\n",
            " [0]\n",
            " [1]\n",
            " [1]\n",
            " [0]\n",
            " [1]\n",
            " [1]\n",
            " [0]\n",
            " [1]\n",
            " [0]\n",
            " [0]\n",
            " [1]\n",
            " [1]\n",
            " [1]\n",
            " [1]\n",
            " [1]\n",
            " [1]\n",
            " [1]\n",
            " [0]\n",
            " [1]\n",
            " [1]\n",
            " [1]\n",
            " [1]\n",
            " [0]\n",
            " [0]\n",
            " [1]\n",
            " [1]\n",
            " [1]\n",
            " [0]\n",
            " [0]\n",
            " [1]\n",
            " [0]\n",
            " [1]\n",
            " [0]\n",
            " [1]\n",
            " [1]\n",
            " [0]\n",
            " [1]\n",
            " [1]\n",
            " [0]\n",
            " [0]\n",
            " [1]\n",
            " [1]\n",
            " [0]\n",
            " [0]\n",
            " [0]\n",
            " [0]\n",
            " [1]\n",
            " [1]\n",
            " [1]\n",
            " [1]\n",
            " [1]\n",
            " [1]\n",
            " [0]\n",
            " [1]\n",
            " [1]\n",
            " [1]\n",
            " [1]\n",
            " [1]\n",
            " [1]\n",
            " [1]\n",
            " [0]\n",
            " [1]\n",
            " [0]]\n"
          ]
        }
      ]
    },
    {
      "cell_type": "code",
      "source": [
        "# 將連續型目標變數轉換為二元類別標籤\n",
        "#threshold = 4041.5  # 以 10 為閾值進行二元分類\n",
        "#Y_train = np.where(Y_train >= threshold, 1, 0)"
      ],
      "metadata": {
        "id": "TkRSYCdY5eU8"
      },
      "execution_count": 118,
      "outputs": []
    },
    {
      "cell_type": "code",
      "source": [
        "#threshold = 4041.5  # 以 10 為閾值進行二元分類\n",
        "\n",
        "#Y_test = np.where(Y_test >= threshold, 1, 0)"
      ],
      "metadata": {
        "id": "n3iDwayjQtIH"
      },
      "execution_count": 119,
      "outputs": []
    },
    {
      "cell_type": "code",
      "source": [
        "# 1: 建立 logistic regression 模型\n",
        "model_logreg = LogisticRegression()\n",
        "\n",
        "# 訓練模型\n",
        "model_logreg.fit(X_train, Y_train)\n",
        "\n",
        "\n",
        "\n",
        "# 2: 預測測試集的機率\n",
        "y_pred = model_logreg.predict(X_test)\n",
        "\n",
        "# 3. 檢查係數\n",
        "print('B0 of LR', model_logreg.intercept_)\n",
        "print('B1 of LR', model_logreg.coef_)\n",
        "model_logreg.get_params(deep = True)"
      ],
      "metadata": {
        "id": "TAfzJTPgw9Zu",
        "colab": {
          "base_uri": "https://localhost:8080/"
        },
        "outputId": "81cfd62d-d839-4079-f7aa-0fca68ed8b05"
      },
      "execution_count": 120,
      "outputs": [
        {
          "output_type": "stream",
          "name": "stdout",
          "text": [
            "B0 of LR [-0.28464984]\n",
            "B1 of LR [[-0.06639942  0.59142736  1.00592238]]\n"
          ]
        },
        {
          "output_type": "stream",
          "name": "stderr",
          "text": [
            "/usr/local/lib/python3.10/dist-packages/sklearn/utils/validation.py:1143: DataConversionWarning: A column-vector y was passed when a 1d array was expected. Please change the shape of y to (n_samples, ), for example using ravel().\n",
            "  y = column_or_1d(y, warn=True)\n"
          ]
        },
        {
          "output_type": "execute_result",
          "data": {
            "text/plain": [
              "{'C': 1.0,\n",
              " 'class_weight': None,\n",
              " 'dual': False,\n",
              " 'fit_intercept': True,\n",
              " 'intercept_scaling': 1,\n",
              " 'l1_ratio': None,\n",
              " 'max_iter': 100,\n",
              " 'multi_class': 'auto',\n",
              " 'n_jobs': None,\n",
              " 'penalty': 'l2',\n",
              " 'random_state': None,\n",
              " 'solver': 'lbfgs',\n",
              " 'tol': 0.0001,\n",
              " 'verbose': 0,\n",
              " 'warm_start': False}"
            ]
          },
          "metadata": {},
          "execution_count": 120
        }
      ]
    },
    {
      "cell_type": "code",
      "source": [
        "len(y_pred)"
      ],
      "metadata": {
        "id": "vKu92SJEekNc",
        "colab": {
          "base_uri": "https://localhost:8080/"
        },
        "outputId": "f7eaff36-cb6d-4b41-a6c4-d45460b94c4d"
      },
      "execution_count": 121,
      "outputs": [
        {
          "output_type": "execute_result",
          "data": {
            "text/plain": [
              "22"
            ]
          },
          "metadata": {},
          "execution_count": 121
        }
      ]
    },
    {
      "cell_type": "code",
      "source": [
        "from sklearn.metrics import mean_squared_error\n",
        "\n",
        "#先看訓練集的分數\n",
        "y_pred_train = model_logreg.predict(X_train_scaled)\n",
        "print('Official of RSS [training set]:', mean_squared_error(Y_train, y_pred_train) * len(Y_train))\n",
        "print('模型分數[training set]:',model_logreg.score(X_train, Y_train))\n",
        "\n"
      ],
      "metadata": {
        "id": "IPROeDFszuRF",
        "colab": {
          "base_uri": "https://localhost:8080/"
        },
        "outputId": "557d96ec-0553-4452-f664-5621b1166aed"
      },
      "execution_count": 122,
      "outputs": [
        {
          "output_type": "stream",
          "name": "stdout",
          "text": [
            "Official of RSS [training set]: 32.0\n",
            "模型分數[training set]: 0.6627906976744186\n"
          ]
        },
        {
          "output_type": "stream",
          "name": "stderr",
          "text": [
            "/usr/local/lib/python3.10/dist-packages/sklearn/base.py:439: UserWarning: X does not have valid feature names, but LogisticRegression was fitted with feature names\n",
            "  warnings.warn(\n"
          ]
        }
      ]
    },
    {
      "cell_type": "code",
      "source": [
        "print('Official of RSS:', mean_squared_error(Y_test, y_pred) * len(Y_test))\n",
        "print('模型分數:',model_logreg.score(X_test, Y_test))"
      ],
      "metadata": {
        "id": "vDlL7Ncmgd8P",
        "colab": {
          "base_uri": "https://localhost:8080/"
        },
        "outputId": "ba2d3fb1-1112-4cd6-ef8e-3566cdad343b"
      },
      "execution_count": 123,
      "outputs": [
        {
          "output_type": "stream",
          "name": "stdout",
          "text": [
            "Official of RSS: 7.0\n",
            "模型分數: 0.6818181818181818\n"
          ]
        }
      ]
    },
    {
      "cell_type": "markdown",
      "source": [],
      "metadata": {
        "id": "GIMx1b-SL5x0"
      }
    },
    {
      "cell_type": "code",
      "source": [
        "from sklearn.metrics import classification_report\n",
        "print(classification_report(Y_test, y_pred))"
      ],
      "metadata": {
        "colab": {
          "base_uri": "https://localhost:8080/"
        },
        "id": "GpT9irXg7Ew4",
        "outputId": "25799f9d-9bd2-492f-ad50-8564592f02ee"
      },
      "execution_count": 124,
      "outputs": [
        {
          "output_type": "stream",
          "name": "stdout",
          "text": [
            "              precision    recall  f1-score   support\n",
            "\n",
            "           0       0.33      0.17      0.22         6\n",
            "           1       0.74      0.88      0.80        16\n",
            "\n",
            "    accuracy                           0.68        22\n",
            "   macro avg       0.54      0.52      0.51        22\n",
            "weighted avg       0.63      0.68      0.64        22\n",
            "\n"
          ]
        }
      ]
    },
    {
      "cell_type": "code",
      "source": [
        "from sklearn.metrics import confusion_matrix\n",
        "cm = confusion_matrix(Y_test, y_pred)\n",
        "\n",
        "# 打印混淆矩陣\n",
        "print(\"Confusion Matrix:\")\n",
        "print(cm)\n"
      ],
      "metadata": {
        "id": "r9rpsVLc7Lw9",
        "colab": {
          "base_uri": "https://localhost:8080/"
        },
        "outputId": "b0a3af1b-02db-425d-9d14-f45c7795acf1"
      },
      "execution_count": 125,
      "outputs": [
        {
          "output_type": "stream",
          "name": "stdout",
          "text": [
            "Confusion Matrix:\n",
            "[[ 1  5]\n",
            " [ 2 14]]\n"
          ]
        }
      ]
    },
    {
      "cell_type": "code",
      "source": [],
      "metadata": {
        "id": "DcBDykWMTgrU"
      },
      "execution_count": 130,
      "outputs": []
    },
    {
      "cell_type": "code",
      "source": [],
      "metadata": {
        "id": "m2xXccjl8gvY"
      },
      "execution_count": 126,
      "outputs": []
    },
    {
      "cell_type": "markdown",
      "source": [
        "#考慮到我們想要分析的是模型的係數，sklearn默認使用正則化回歸，會使得係數產生偏差，因此做了version2"
      ],
      "metadata": {
        "id": "sOob5Qs5Uy4b"
      }
    },
    {
      "cell_type": "markdown",
      "source": [
        "#使用statsmodel.api建立logistic模型，並加以分析\n"
      ],
      "metadata": {
        "id": "U7xZlTdITznJ"
      }
    },
    {
      "cell_type": "code",
      "source": [
        "import statsmodels.api as sm\n",
        "\n",
        "# 建立羅吉斯回歸模型\n",
        "logit_model = sm.Logit(Y_train, X_train)\n",
        "\n",
        "# 訓練模型\n",
        "logit_result = logit_model.fit()\n",
        "\n",
        "# 檢視模型摘要\n",
        "print(logit_result.summary())"
      ],
      "metadata": {
        "colab": {
          "base_uri": "https://localhost:8080/"
        },
        "id": "PjSvgzCjb3B_",
        "outputId": "9e09c6a8-b502-4051-9a53-b74db7e1c227"
      },
      "execution_count": 127,
      "outputs": [
        {
          "output_type": "stream",
          "name": "stdout",
          "text": [
            "Optimization terminated successfully.\n",
            "         Current function value: 0.626291\n",
            "         Iterations 5\n",
            "                           Logit Regression Results                           \n",
            "==============================================================================\n",
            "Dep. Variable:                      y   No. Observations:                   86\n",
            "Model:                          Logit   Df Residuals:                       83\n",
            "Method:                           MLE   Df Model:                            2\n",
            "Date:                Fri, 02 Jun 2023   Pseudo R-squ.:                 0.06674\n",
            "Time:                        08:51:03   Log-Likelihood:                -53.861\n",
            "converged:                       True   LL-Null:                       -57.713\n",
            "Covariance Type:            nonrobust   LLR p-value:                   0.02124\n",
            "==============================================================================\n",
            "                 coef    std err          z      P>|z|      [0.025      0.975]\n",
            "------------------------------------------------------------------------------\n",
            "襄             -0.2930      0.443     -0.661      0.509      -1.162       0.576\n",
            "苡              0.4850      0.397      1.221      0.222      -0.294       1.264\n",
            "妲              0.9750      0.401      2.430      0.015       0.189       1.761\n",
            "==============================================================================\n"
          ]
        }
      ]
    },
    {
      "cell_type": "code",
      "source": [
        "Y_pred = logit_result.predict(X_test)\n",
        "Y_pred_binary = (Y_pred >= 0.5).astype(int)"
      ],
      "metadata": {
        "id": "Run5KvsJVe3l"
      },
      "execution_count": 149,
      "outputs": []
    },
    {
      "cell_type": "code",
      "source": [
        "Y_pred_binary = Y_pred_binary.values"
      ],
      "metadata": {
        "id": "_aESfW22XW_o"
      },
      "execution_count": 147,
      "outputs": []
    },
    {
      "cell_type": "code",
      "source": [
        "accuracy = (Y_pred_binary == Y_test).mean()\n",
        "print(\"准确率：\", accuracy)"
      ],
      "metadata": {
        "colab": {
          "base_uri": "https://localhost:8080/"
        },
        "id": "9IpFVHSxVfA5",
        "outputId": "dea6fa81-bb09-4cec-9d96-a793447fb8e3"
      },
      "execution_count": 148,
      "outputs": [
        {
          "output_type": "stream",
          "name": "stdout",
          "text": [
            "准确率： 0.7066115702479339\n"
          ]
        }
      ]
    },
    {
      "cell_type": "code",
      "source": [
        "logit_result.params"
      ],
      "metadata": {
        "id": "bkd7v_A6IOkj",
        "colab": {
          "base_uri": "https://localhost:8080/"
        },
        "outputId": "8d15bba1-ed08-4aaf-d3cb-dad387e33145"
      },
      "execution_count": 128,
      "outputs": [
        {
          "output_type": "execute_result",
          "data": {
            "text/plain": [
              "襄   -0.292984\n",
              "苡    0.484962\n",
              "妲    0.974992\n",
              "dtype: float64"
            ]
          },
          "metadata": {},
          "execution_count": 128
        }
      ]
    },
    {
      "cell_type": "code",
      "source": [
        "np.exp(logit_result.params)"
      ],
      "metadata": {
        "id": "Sl4R2oQvf0U5",
        "colab": {
          "base_uri": "https://localhost:8080/"
        },
        "outputId": "f6514b71-43d0-462c-f9c0-3432e23900b4"
      },
      "execution_count": 129,
      "outputs": [
        {
          "output_type": "execute_result",
          "data": {
            "text/plain": [
              "襄    0.746034\n",
              "苡    1.624113\n",
              "妲    2.651145\n",
              "dtype: float64"
            ]
          },
          "metadata": {},
          "execution_count": 129
        }
      ]
    },
    {
      "cell_type": "code",
      "source": [
        "params = logit_result.params\n",
        "conf_ = logit_result.conf_int()\n",
        "conf_['Odds Ratios'] = params\n",
        "conf_.columns = [\"5%\",\"95%\",\"Odds Ratios\"]\n",
        "print(np.exp(conf_))"
      ],
      "metadata": {
        "id": "53RQioVDf2go",
        "colab": {
          "base_uri": "https://localhost:8080/"
        },
        "outputId": "eaa7d6fb-e330-4469-dd9a-254cd9b73b5a"
      },
      "execution_count": 130,
      "outputs": [
        {
          "output_type": "stream",
          "name": "stdout",
          "text": [
            "         5%       95%  Odds Ratios\n",
            "襄  0.312842  1.779069     0.746034\n",
            "苡  0.745538  3.538043     1.624113\n",
            "妲  1.207598  5.820293     2.651145\n"
          ]
        }
      ]
    },
    {
      "cell_type": "code",
      "source": [],
      "metadata": {
        "id": "WmxLf-w7TAGv"
      },
      "execution_count": 130,
      "outputs": []
    }
  ]
}