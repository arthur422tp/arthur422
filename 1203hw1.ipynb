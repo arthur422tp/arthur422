{
 "cells": [
  {
   "cell_type": "code",
   "execution_count": null,
   "metadata": {},
   "outputs": [
    {
     "name": "stdout",
     "output_type": "stream",
     "text": [
      "這是你抽到的牌:紅心8\n",
      "請猜測你所持有的手牌大於還是小於電腦的手牌(輸入大或小,輸入0即可結束遊戲)\n",
      ":大\n",
      "你是撲克王。電腦的牌是黑桃1\n",
      "這是你抽到的牌:方塊5\n"
     ]
    }
   ],
   "source": [
    "import random\n",
    "L=['黑桃','紅心','方塊','梅花']\n",
    "answer=0\n",
    "while True:\n",
    "    a=random.randint(1,13)\n",
    "    b=random.randint(1,4)\n",
    "    c=random.randint(1,13)\n",
    "    d=random.randint(1,4)\n",
    "    if a==c:\n",
    "        while c==d:\n",
    "            c=random.randint(1,13)\n",
    "            d=random.randint(1,4)\n",
    "        if c<d:\n",
    "            answer='小'\n",
    "        else:\n",
    "            answer='大'\n",
    "    elif a>c:\n",
    "        answer='大'\n",
    "    else:\n",
    "        answer='小'\n",
    "    print('這是你抽到的牌:{}{}'.format(L[b-1],a))\n",
    "    e=input('請猜測你所持有的手牌大於還是小於電腦的手牌(輸入大或小,輸入0即可結束遊戲)\\n:')\n",
    "    if e=='0':\n",
    "        print('遊戲結束，謝謝試玩')\n",
    "        break\n",
    "    elif e!='大' and e!='小':\n",
    "        print('不要亂打，給我重來')\n",
    "        continue\n",
    "    if e==answer:\n",
    "        print('你是撲克王。電腦的牌是{}{}'.format(L[d-1],c))\n",
    "    else:\n",
    "        print('你好遜。電腦的牌是:{}{}'.format(L[b-1],c))\n",
    "        \n",
    "\n"
   ]
  },
  {
   "cell_type": "code",
   "execution_count": null,
   "metadata": {},
   "outputs": [],
   "source": []
  }
 ],
 "metadata": {
  "kernelspec": {
   "display_name": "Python 3",
   "language": "python",
   "name": "python3"
  },
  "language_info": {
   "codemirror_mode": {
    "name": "ipython",
    "version": 3
   },
   "file_extension": ".py",
   "mimetype": "text/x-python",
   "name": "python",
   "nbconvert_exporter": "python",
   "pygments_lexer": "ipython3",
   "version": "3.7.3"
  }
 },
 "nbformat": 4,
 "nbformat_minor": 2
}
