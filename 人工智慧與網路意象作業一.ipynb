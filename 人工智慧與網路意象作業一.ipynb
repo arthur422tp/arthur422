{
  "nbformat": 4,
  "nbformat_minor": 0,
  "metadata": {
    "colab": {
      "provenance": [],
      "authorship_tag": "ABX9TyMqeNrkbWJqAeK2XuDM/riX",
      "include_colab_link": true
    },
    "kernelspec": {
      "name": "python3",
      "display_name": "Python 3"
    },
    "language_info": {
      "name": "python"
    }
  },
  "cells": [
    {
      "cell_type": "markdown",
      "metadata": {
        "id": "view-in-github",
        "colab_type": "text"
      },
      "source": [
        "<a href=\"https://colab.research.google.com/github/arthur422tp/arthur422/blob/master/%E4%BA%BA%E5%B7%A5%E6%99%BA%E6%85%A7%E8%88%87%E7%B6%B2%E8%B7%AF%E6%84%8F%E8%B1%A1%E4%BD%9C%E6%A5%AD%E4%B8%80.ipynb\" target=\"_parent\"><img src=\"https://colab.research.google.com/assets/colab-badge.svg\" alt=\"Open In Colab\"/></a>"
      ]
    },
    {
      "cell_type": "code",
      "execution_count": 4,
      "metadata": {
        "id": "v7q_UoxVrOu0"
      },
      "outputs": [],
      "source": [
        "import numpy as np\n",
        "from typing import Optional\n",
        "from typing import List\n"
      ]
    },
    {
      "cell_type": "markdown",
      "source": [
        "第一題"
      ],
      "metadata": {
        "id": "7CnvmLbzu7Y4"
      }
    },
    {
      "cell_type": "code",
      "source": [
        "def GetInsertPosition(N: int, L: List[int]) -> int:\n",
        "  left = 0\n",
        "  right = len(L)-1\n",
        "  while right>=left:\n",
        "    mid = (left+right)//2\n",
        "    if L[mid] == N:\n",
        "      return mid\n",
        "    elif L[mid] < N:\n",
        "      left = mid +1\n",
        "    else:\n",
        "      right = mid -1\n",
        "  return left"
      ],
      "metadata": {
        "id": "AOjdXnQ9rTKt"
      },
      "execution_count": 46,
      "outputs": []
    },
    {
      "cell_type": "code",
      "source": [
        "L = [1,3,5,6]\n",
        "N = 5\n",
        "print(N, '的位置該在？ Ans:',GetInsertPosition(5,[1,3,5,6]))"
      ],
      "metadata": {
        "colab": {
          "base_uri": "https://localhost:8080/"
        },
        "id": "jEI5buCFs9IE",
        "outputId": "4be73f40-1ad1-4494-f74c-426545a07412"
      },
      "execution_count": 17,
      "outputs": [
        {
          "output_type": "stream",
          "name": "stdout",
          "text": [
            "5 的位置該在？ Ans: 2\n"
          ]
        }
      ]
    },
    {
      "cell_type": "markdown",
      "source": [
        "第二題"
      ],
      "metadata": {
        "id": "Fd9oZ19yvUfn"
      }
    },
    {
      "cell_type": "code",
      "source": [
        "def IsPalindrome(strCheck):\n",
        "  strCheck = str_test[::-1]\n",
        "  if s == strCheck:\n",
        "    return True  \n",
        "  else:\n",
        "    return False"
      ],
      "metadata": {
        "id": "a3Y0kOxRs-08"
      },
      "execution_count": 18,
      "outputs": []
    },
    {
      "cell_type": "code",
      "source": [
        "str_test = '上海自來水來自海上'\n",
        "print(str_test,'是迴文嗎？ Ans:',IsPalindrome(strCheck))"
      ],
      "metadata": {
        "colab": {
          "base_uri": "https://localhost:8080/"
        },
        "id": "azYYluvzxFYo",
        "outputId": "30c401a4-cf2a-4273-c698-0422da69ce79"
      },
      "execution_count": 22,
      "outputs": [
        {
          "output_type": "stream",
          "name": "stdout",
          "text": [
            "上海自來水來自海上 是迴文嗎？ Ans: True\n"
          ]
        }
      ]
    },
    {
      "cell_type": "markdown",
      "source": [
        "第三題"
      ],
      "metadata": {
        "id": "jP3Y5C86xrp9"
      }
    },
    {
      "cell_type": "code",
      "source": [
        "def IsRotate(strOrigin, strRotate):\n",
        "  if len(strOrigin)!= len(strRotate):\n",
        "    return False\n",
        "  New_str = strOrigin+strOrigin\n",
        "  if strRotate in New_str:\n",
        "    return True\n",
        "  else:\n",
        "    return False"
      ],
      "metadata": {
        "id": "IhN4nIiaxejR"
      },
      "execution_count": 26,
      "outputs": []
    },
    {
      "cell_type": "code",
      "source": [
        "strOrigin = 'abcde'\n",
        "strRotate = 'deabc'\n",
        "print(f'{strRotate}和{strOrigin}是旋轉字串嗎？ Ans:',IsRotate(strOrigin, strRotate))"
      ],
      "metadata": {
        "colab": {
          "base_uri": "https://localhost:8080/"
        },
        "id": "677Tw85h1XJK",
        "outputId": "f42e2be8-7c1c-4c76-f5ed-0950da864338"
      },
      "execution_count": 29,
      "outputs": [
        {
          "output_type": "stream",
          "name": "stdout",
          "text": [
            "deabc和abcde是旋轉字串嗎？ Ans: True\n"
          ]
        }
      ]
    },
    {
      "cell_type": "markdown",
      "source": [
        "第四題"
      ],
      "metadata": {
        "id": "CRy9LHVD2f1Z"
      }
    },
    {
      "cell_type": "code",
      "source": [
        "def CanGoHome(listCheck):\n",
        "  x = 0\n",
        "  y = 0\n",
        "  for move in listCheck:\n",
        "    if move =='U':\n",
        "      y += 1\n",
        "    elif move =='D':\n",
        "      y -= 1\n",
        "    elif move =='R':\n",
        "      x += 1\n",
        "    elif move =='L':\n",
        "      x -= 1\n",
        "  return  x==y==0"
      ],
      "metadata": {
        "id": "Z23l-1xm2Lsy"
      },
      "execution_count": 43,
      "outputs": []
    },
    {
      "cell_type": "code",
      "source": [
        "listCheck = ['L','R']\n",
        "print(f'{listCheck} 可以讓機器人回家嗎？ Ans:', CanGoHome(listCheck))"
      ],
      "metadata": {
        "colab": {
          "base_uri": "https://localhost:8080/"
        },
        "id": "1HizvW_o5xAg",
        "outputId": "d65cf91b-4dbe-4ab4-9bb5-c887e0fe7236"
      },
      "execution_count": 49,
      "outputs": [
        {
          "output_type": "stream",
          "name": "stdout",
          "text": [
            "['L', 'R'] 可以讓機器人回家嗎？ Ans: True\n"
          ]
        }
      ]
    },
    {
      "cell_type": "markdown",
      "source": [
        "第五題"
      ],
      "metadata": {
        "id": "foofZHr7ASgX"
      }
    },
    {
      "cell_type": "code",
      "source": [
        "def GetTruncateString(S, N):\n",
        "  word_cut = S.split()\n",
        "  choose_word = word_cut[:N]\n",
        "  return ' '.join(choose_word)\n",
        "\n"
      ],
      "metadata": {
        "id": "cfkKbgdI6GkY"
      },
      "execution_count": 51,
      "outputs": []
    },
    {
      "cell_type": "code",
      "source": [
        "S = \"What is the solution to this problem\"\n",
        "N = 5\n",
        "print(f'剪句 {N} 個字結果為 Ans:', GetTruncateString(S, N))"
      ],
      "metadata": {
        "colab": {
          "base_uri": "https://localhost:8080/"
        },
        "id": "dx4DiaRy6blt",
        "outputId": "e4ca64ae-b310-40b0-f388-79ee1273b149"
      },
      "execution_count": 57,
      "outputs": [
        {
          "output_type": "stream",
          "name": "stdout",
          "text": [
            "剪句 5 個字結果為 Ans: What is the solution to\n"
          ]
        }
      ]
    },
    {
      "cell_type": "code",
      "source": [],
      "metadata": {
        "id": "It4DC7uyDHDz"
      },
      "execution_count": null,
      "outputs": []
    }
  ]
}