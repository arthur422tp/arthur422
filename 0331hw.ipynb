{
 "cells": [
  {
   "cell_type": "code",
   "execution_count": 1,
   "metadata": {},
   "outputs": [],
   "source": [
    "%matplotlib inline\n",
    "\n",
    "import numpy as np\n",
    "import matplotlib.pyplot as plt"
   ]
  },
  {
   "cell_type": "markdown",
   "metadata": {},
   "source": [
    "### 讀入fashion_mnist"
   ]
  },
  {
   "cell_type": "code",
   "execution_count": 3,
   "metadata": {},
   "outputs": [],
   "source": [
    "from tensorflow.keras.datasets import fashion_mnist"
   ]
  },
  {
   "cell_type": "code",
   "execution_count": 4,
   "metadata": {},
   "outputs": [
    {
     "name": "stdout",
     "output_type": "stream",
     "text": [
      "Downloading data from https://storage.googleapis.com/tensorflow/tf-keras-datasets/train-labels-idx1-ubyte.gz\n",
      "32768/29515 [=================================] - 0s 1us/step\n",
      "Downloading data from https://storage.googleapis.com/tensorflow/tf-keras-datasets/train-images-idx3-ubyte.gz\n",
      "26427392/26421880 [==============================] - 5s 0us/step\n",
      "Downloading data from https://storage.googleapis.com/tensorflow/tf-keras-datasets/t10k-labels-idx1-ubyte.gz\n",
      "8192/5148 [===============================================] - 0s 0us/step\n",
      "Downloading data from https://storage.googleapis.com/tensorflow/tf-keras-datasets/t10k-images-idx3-ubyte.gz\n",
      "4423680/4422102 [==============================] - 1s 0us/step\n"
     ]
    }
   ],
   "source": [
    "(x_train, y_train), (x_test, y_test) = fashion_mnist.load_data()"
   ]
  },
  {
   "cell_type": "markdown",
   "metadata": {},
   "source": [
    "### 數據"
   ]
  },
  {
   "cell_type": "code",
   "execution_count": 5,
   "metadata": {},
   "outputs": [],
   "source": [
    "class_names = ['T-shirt/top', 'Trouser', 'Pullover', 'Dress', 'Coat','Sandal', 'Shirt', 'Sneaker', 'Bag', 'Ankle boot']"
   ]
  },
  {
   "cell_type": "code",
   "execution_count": 9,
   "metadata": {},
   "outputs": [
    {
     "name": "stdout",
     "output_type": "stream",
     "text": [
      "This is Coat\n"
     ]
    },
    {
     "data": {
      "text/plain": [
       "<matplotlib.image.AxesImage at 0x1616a902488>"
      ]
     },
     "execution_count": 9,
     "metadata": {},
     "output_type": "execute_result"
    },
    {
     "data": {
      "image/png": "[encoded data removed]",
      "text/plain": [
       "<Figure size 432x288 with 1 Axes>"
      ]
     },
     "metadata": {
      "needs_background": "light"
     },
     "output_type": "display_data"
    }
   ],
   "source": [
    "n = 5000\n",
    "print(\"This is\", class_names[y_train[n]])\n",
    "plt.imshow(x_train[n] , cmap=\"magma\")"
   ]
  },
  {
   "cell_type": "markdown",
   "metadata": {},
   "source": [
    "### 資料整理"
   ]
  },
  {
   "cell_type": "code",
   "execution_count": 10,
   "metadata": {},
   "outputs": [],
   "source": [
    "x_train = x_train/255\n",
    "x_test = x_test/255"
   ]
  },
  {
   "cell_type": "code",
   "execution_count": 11,
   "metadata": {},
   "outputs": [],
   "source": [
    "x_train = x_train.reshape(60000, 784)\n",
    "x_test = x_test.reshape(10000, 784)"
   ]
  },
  {
   "cell_type": "code",
   "execution_count": 12,
   "metadata": {},
   "outputs": [],
   "source": [
    "from tensorflow.keras.utils import to_categorical"
   ]
  },
  {
   "cell_type": "code",
   "execution_count": 13,
   "metadata": {},
   "outputs": [],
   "source": [
    "y_train = to_categorical(y_train, 10)\n",
    "y_test = to_categorical(y_test, 10)"
   ]
  },
  {
   "cell_type": "code",
   "execution_count": 14,
   "metadata": {},
   "outputs": [
    {
     "data": {
      "text/plain": [
       "array([0., 1., 0., 0., 0., 0., 0., 0., 0., 0.], dtype=float32)"
      ]
     },
     "execution_count": 14,
     "metadata": {},
     "output_type": "execute_result"
    }
   ],
   "source": [
    "y_train[69]"
   ]
  },
  {
   "cell_type": "markdown",
   "metadata": {},
   "source": [
    "### 神經網路"
   ]
  },
  {
   "cell_type": "code",
   "execution_count": 15,
   "metadata": {},
   "outputs": [],
   "source": [
    "from tensorflow.keras.models import Sequential\n",
    "from tensorflow.keras.layers import Dense\n",
    "from tensorflow.keras.optimizers import SGD"
   ]
  },
  {
   "cell_type": "code",
   "execution_count": 17,
   "metadata": {},
   "outputs": [],
   "source": [
    "model = Sequential()\n",
    "model.add(Dense(87, input_dim=784, activation='relu'))\n",
    "model.add(Dense(87, activation='relu'))\n",
    "model.add(Dense(10, activation='softmax'))"
   ]
  },
  {
   "cell_type": "markdown",
   "metadata": {},
   "source": [
    "### 組裝"
   ]
  },
  {
   "cell_type": "code",
   "execution_count": 18,
   "metadata": {},
   "outputs": [],
   "source": [
    "model.compile(loss='mse', optimizer=SGD(lr=0.69), metrics=['accuracy'])"
   ]
  },
  {
   "cell_type": "code",
   "execution_count": 19,
   "metadata": {},
   "outputs": [
    {
     "name": "stdout",
     "output_type": "stream",
     "text": [
      "Model: \"sequential_1\"\n",
      "_________________________________________________________________\n",
      "Layer (type)                 Output Shape              Param #   \n",
      "=================================================================\n",
      "dense_3 (Dense)              (None, 87)                68295     \n",
      "_________________________________________________________________\n",
      "dense_4 (Dense)              (None, 87)                7656      \n",
      "_________________________________________________________________\n",
      "dense_5 (Dense)              (None, 10)                880       \n",
      "=================================================================\n",
      "Total params: 76,831\n",
      "Trainable params: 76,831\n",
      "Non-trainable params: 0\n",
      "_________________________________________________________________\n"
     ]
    }
   ],
   "source": [
    "model.summary()"
   ]
  },
  {
   "cell_type": "markdown",
   "metadata": {},
   "source": [
    "### 訓練它"
   ]
  },
  {
   "cell_type": "code",
   "execution_count": 20,
   "metadata": {},
   "outputs": [
    {
     "name": "stdout",
     "output_type": "stream",
     "text": [
      "Epoch 1/50\n",
      "60000/60000 [==============================] - 1s 12us/sample - loss: 0.0444 - acc: 0.6850\n",
      "Epoch 2/50\n",
      "60000/60000 [==============================] - 1s 11us/sample - loss: 0.0278 - acc: 0.8113\n",
      "Epoch 3/50\n",
      "60000/60000 [==============================] - 1s 10us/sample - loss: 0.0247 - acc: 0.8317\n",
      "Epoch 4/50\n",
      "60000/60000 [==============================] - 1s 9us/sample - loss: 0.0231 - acc: 0.8424\n",
      "Epoch 5/50\n",
      "60000/60000 [==============================] - 1s 10us/sample - loss: 0.0220 - acc: 0.8503\n",
      "Epoch 6/50\n",
      "60000/60000 [==============================] - 1s 10us/sample - loss: 0.0212 - acc: 0.8560\n",
      "Epoch 7/50\n",
      "60000/60000 [==============================] - 1s 10us/sample - loss: 0.0204 - acc: 0.8622\n",
      "Epoch 8/50\n",
      "60000/60000 [==============================] - 1s 11us/sample - loss: 0.0199 - acc: 0.8647\n",
      "Epoch 9/50\n",
      "60000/60000 [==============================] - 1s 10us/sample - loss: 0.0194 - acc: 0.8691\n",
      "Epoch 10/50\n",
      "60000/60000 [==============================] - 1s 10us/sample - loss: 0.0190 - acc: 0.8706\n",
      "Epoch 11/50\n",
      "60000/60000 [==============================] - 1s 10us/sample - loss: 0.0185 - acc: 0.8750\n",
      "Epoch 12/50\n",
      "60000/60000 [==============================] - 1s 10us/sample - loss: 0.0182 - acc: 0.8764\n",
      "Epoch 13/50\n",
      "60000/60000 [==============================] - 1s 9us/sample - loss: 0.0178 - acc: 0.8792\n",
      "Epoch 14/50\n",
      "60000/60000 [==============================] - 1s 10us/sample - loss: 0.0175 - acc: 0.8823\n",
      "Epoch 15/50\n",
      "60000/60000 [==============================] - 1s 9us/sample - loss: 0.0173 - acc: 0.8834\n",
      "Epoch 16/50\n",
      "60000/60000 [==============================] - 1s 10us/sample - loss: 0.0169 - acc: 0.8860\n",
      "Epoch 17/50\n",
      "60000/60000 [==============================] - 1s 9us/sample - loss: 0.0167 - acc: 0.8876\n",
      "Epoch 18/50\n",
      "60000/60000 [==============================] - 1s 9us/sample - loss: 0.0166 - acc: 0.8890\n",
      "Epoch 19/50\n",
      "60000/60000 [==============================] - 1s 10us/sample - loss: 0.0163 - acc: 0.8904\n",
      "Epoch 20/50\n",
      "60000/60000 [==============================] - 1s 10us/sample - loss: 0.0161 - acc: 0.8918\n",
      "Epoch 21/50\n",
      "60000/60000 [==============================] - 1s 11us/sample - loss: 0.0159 - acc: 0.8937\n",
      "Epoch 22/50\n",
      "60000/60000 [==============================] - 1s 10us/sample - loss: 0.0157 - acc: 0.8937\n",
      "Epoch 23/50\n",
      "60000/60000 [==============================] - 1s 10us/sample - loss: 0.0155 - acc: 0.8956\n",
      "Epoch 24/50\n",
      "60000/60000 [==============================] - 1s 10us/sample - loss: 0.0153 - acc: 0.8977\n",
      "Epoch 25/50\n",
      "60000/60000 [==============================] - 1s 9us/sample - loss: 0.0152 - acc: 0.8984\n",
      "Epoch 26/50\n",
      "60000/60000 [==============================] - 1s 10us/sample - loss: 0.0151 - acc: 0.8988\n",
      "Epoch 27/50\n",
      "60000/60000 [==============================] - 1s 9us/sample - loss: 0.0148 - acc: 0.9011\n",
      "Epoch 28/50\n",
      "60000/60000 [==============================] - 1s 10us/sample - loss: 0.0147 - acc: 0.9023\n",
      "Epoch 29/50\n",
      "60000/60000 [==============================] - 1s 10us/sample - loss: 0.0145 - acc: 0.9025\n",
      "Epoch 30/50\n",
      "60000/60000 [==============================] - 1s 10us/sample - loss: 0.0144 - acc: 0.9038\n",
      "Epoch 31/50\n",
      "60000/60000 [==============================] - 1s 10us/sample - loss: 0.0143 - acc: 0.9043\n",
      "Epoch 32/50\n",
      "60000/60000 [==============================] - 1s 10us/sample - loss: 0.0141 - acc: 0.9057\n",
      "Epoch 33/50\n",
      "60000/60000 [==============================] - 1s 9us/sample - loss: 0.0139 - acc: 0.9074\n",
      "Epoch 34/50\n",
      "60000/60000 [==============================] - 1s 10us/sample - loss: 0.0139 - acc: 0.9076\n",
      "Epoch 35/50\n",
      "60000/60000 [==============================] - 1s 10us/sample - loss: 0.0138 - acc: 0.9085\n",
      "Epoch 36/50\n",
      "60000/60000 [==============================] - 1s 10us/sample - loss: 0.0136 - acc: 0.9101\n",
      "Epoch 37/50\n",
      "60000/60000 [==============================] - 1s 10us/sample - loss: 0.0136 - acc: 0.9103\n",
      "Epoch 38/50\n",
      "60000/60000 [==============================] - 1s 10us/sample - loss: 0.0134 - acc: 0.9117\n",
      "Epoch 39/50\n",
      "60000/60000 [==============================] - 1s 10us/sample - loss: 0.0133 - acc: 0.9127\n",
      "Epoch 40/50\n",
      "60000/60000 [==============================] - 1s 10us/sample - loss: 0.0132 - acc: 0.9136\n",
      "Epoch 41/50\n",
      "60000/60000 [==============================] - 1s 9us/sample - loss: 0.0132 - acc: 0.9127\n",
      "Epoch 42/50\n",
      "60000/60000 [==============================] - 1s 10us/sample - loss: 0.0130 - acc: 0.9143\n",
      "Epoch 43/50\n",
      "60000/60000 [==============================] - 1s 9us/sample - loss: 0.0129 - acc: 0.9151\n",
      "Epoch 44/50\n",
      "60000/60000 [==============================] - 1s 10us/sample - loss: 0.0129 - acc: 0.9159\n",
      "Epoch 45/50\n",
      "60000/60000 [==============================] - 1s 10us/sample - loss: 0.0127 - acc: 0.9169\n",
      "Epoch 46/50\n",
      "60000/60000 [==============================] - 1s 10us/sample - loss: 0.0127 - acc: 0.9169\n",
      "Epoch 47/50\n",
      "60000/60000 [==============================] - 1s 9us/sample - loss: 0.0124 - acc: 0.9197\n",
      "Epoch 48/50\n",
      "60000/60000 [==============================] - 1s 10us/sample - loss: 0.0124 - acc: 0.9192\n",
      "Epoch 49/50\n",
      "60000/60000 [==============================] - 1s 10us/sample - loss: 0.0123 - acc: 0.9188\n",
      "Epoch 50/50\n",
      "60000/60000 [==============================] - 1s 10us/sample - loss: 0.0122 - acc: 0.9201\n"
     ]
    },
    {
     "data": {
      "text/plain": [
       "<tensorflow.python.keras.callbacks.History at 0x1616a957348>"
      ]
     },
     "execution_count": 20,
     "metadata": {},
     "output_type": "execute_result"
    }
   ],
   "source": [
    "model.fit(x_train, y_train, batch_size=150, epochs=50)"
   ]
  },
  {
   "cell_type": "markdown",
   "metadata": {},
   "source": [
    "### 成果"
   ]
  },
  {
   "cell_type": "code",
   "execution_count": 21,
   "metadata": {},
   "outputs": [],
   "source": [
    "result = model.predict_classes(x_test)"
   ]
  },
  {
   "cell_type": "code",
   "execution_count": 28,
   "metadata": {},
   "outputs": [
    {
     "name": "stdout",
     "output_type": "stream",
     "text": [
      "The result is: Pullover\n"
     ]
    },
    {
     "data": {
      "text/plain": [
       "<matplotlib.image.AxesImage at 0x161675c8d48>"
      ]
     },
     "execution_count": 28,
     "metadata": {},
     "output_type": "execute_result"
    },
    {
     "data": {
      "image/png": "[encoded data removed]",
      "text/plain": [
       "<Figure size 432x288 with 1 Axes>"
      ]
     },
     "metadata": {
      "needs_background": "light"
     },
     "output_type": "display_data"
    }
   ],
   "source": [
    "n = 5000\n",
    "\n",
    "print('The result is:', class_names[result[n]])\n",
    "plt.imshow(x_test[n].reshape(28,28), cmap='magma')"
   ]
  },
  {
   "cell_type": "code",
   "execution_count": null,
   "metadata": {},
   "outputs": [],
   "source": []
  },
  {
   "cell_type": "code",
   "execution_count": null,
   "metadata": {},
   "outputs": [],
   "source": []
  }
 ],
 "metadata": {
  "kernelspec": {
   "display_name": "Python 3",
   "language": "python",
   "name": "python3"
  },
  "language_info": {
   "codemirror_mode": {
    "name": "ipython",
    "version": 3
   },
   "file_extension": ".py",
   "mimetype": "text/x-python",
   "name": "python",
   "nbconvert_exporter": "python",
   "pygments_lexer": "ipython3",
   "version": "3.7.6"
  }
 },
 "nbformat": 4,
 "nbformat_minor": 4
}
