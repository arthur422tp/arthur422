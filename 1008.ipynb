import random
c=0
while c!=5:
    a=int(input('猜猜看,輸入一個1~100內的整數(在5次內達成)!:'))
    b=random.randint(0,100)
        
    if a>b:
        print('太大囉')
    elif a<b:
        print('太小囉')
    else:
        print('太神啦,猜對了')
        False
    c=c+1    
while c==5:
    print('猜太多次囉')
    break
