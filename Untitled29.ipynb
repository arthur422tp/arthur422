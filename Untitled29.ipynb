{
 "cells": [
  {
   "cell_type": "code",
   "execution_count": 16,
   "metadata": {},
   "outputs": [],
   "source": [
    "import numpy as np\n",
    "import math\n",
    "from sympy import *"
   ]
  },
  {
   "cell_type": "code",
   "execution_count": null,
   "metadata": {},
   "outputs": [],
   "source": []
  },
  {
   "cell_type": "code",
   "execution_count": 17,
   "metadata": {},
   "outputs": [],
   "source": [
    "u = ([[1,x,x**2,x**3,x**4,x**5]])"
   ]
  },
  {
   "cell_type": "code",
   "execution_count": 25,
   "metadata": {},
   "outputs": [],
   "source": [
    "v1 = integrate(exp(1),(x,0,1))\n",
    "v2 = integrate(exp(x),(x,0,1))\n",
    "v3 = integrate(exp(x**2),(x,0,1))\n",
    "v4 = integrate(exp(x**3),(x,0,1))\n",
    "v5 = integrate(exp(x**4),(x,0,1))\n",
    "v6 = integrate(exp(x**5),(x,0,1))\n"
   ]
  },
  {
   "cell_type": "code",
   "execution_count": 32,
   "metadata": {},
   "outputs": [],
   "source": [
    "v = ([[v1,v2,v3,v4,v5,v6]])"
   ]
  },
  {
   "cell_type": "code",
   "execution_count": null,
   "metadata": {},
   "outputs": [],
   "source": []
  },
  {
   "cell_type": "code",
   "execution_count": 43,
   "metadata": {},
   "outputs": [],
   "source": [
    "P = np.dot(sin(x),v1)*v1+np.dot(sin(x),v2)*v2+np.dot(sin(x),v3)*v3+np.dot(sin(x),v4)*v4+np.dot(sin(x),v5)*v5+np.dot(sin(x),v6)*v6"
   ]
  },
  {
   "cell_type": "code",
   "execution_count": 44,
   "metadata": {},
   "outputs": [
    {
     "data": {
      "text/latex": [
       "$\\displaystyle \\frac{e^{- \\frac{2 i \\pi}{5}} \\sin{\\left(x \\right)} \\Gamma^{2}\\left(\\frac{1}{5}\\right) \\gamma^{2}\\left(\\frac{1}{5}, e^{i \\pi}\\right)}{625 \\Gamma^{2}\\left(\\frac{6}{5}\\right)} + \\frac{- i \\sin{\\left(x \\right)} \\Gamma^{2}\\left(\\frac{1}{4}\\right) \\gamma^{2}\\left(\\frac{1}{4}, e^{i \\pi}\\right)}{256 \\Gamma^{2}\\left(\\frac{5}{4}\\right)} + \\frac{\\pi \\sin{\\left(x \\right)} \\operatorname{erfi}^{2}{\\left(1 \\right)}}{4} + \\left(-1 + e\\right)^{2} \\sin{\\left(x \\right)} + e^{2} \\sin{\\left(x \\right)} + \\frac{e^{- \\frac{2 i \\pi}{3}} \\sin{\\left(x \\right)} \\Gamma^{2}\\left(\\frac{1}{3}\\right) \\gamma^{2}\\left(\\frac{1}{3}, e^{i \\pi}\\right)}{81 \\Gamma^{2}\\left(\\frac{4}{3}\\right)}$"
      ],
      "text/plain": [
       "exp(-2*I*pi/5)*sin(x)*gamma(1/5)**2*lowergamma(1/5, exp_polar(I*pi))**2/(625*gamma(6/5)**2) + (-I)*sin(x)*gamma(1/4)**2*lowergamma(1/4, exp_polar(I*pi))**2/(256*gamma(5/4)**2) + pi*sin(x)*erfi(1)**2/4 + (-1 + E)**2*sin(x) + exp(2)*sin(x) + exp(-2*I*pi/3)*sin(x)*gamma(1/3)**2*lowergamma(1/3, exp_polar(I*pi))**2/(81*gamma(4/3)**2)"
      ]
     },
     "execution_count": 44,
     "metadata": {},
     "output_type": "execute_result"
    }
   ],
   "source": [
    "P"
   ]
  },
  {
   "cell_type": "code",
   "execution_count": null,
   "metadata": {},
   "outputs": [],
   "source": []
  },
  {
   "cell_type": "code",
   "execution_count": null,
   "metadata": {},
   "outputs": [],
   "source": []
  },
  {
   "cell_type": "code",
   "execution_count": null,
   "metadata": {},
   "outputs": [],
   "source": []
  }
 ],
 "metadata": {
  "kernelspec": {
   "display_name": "Python 3",
   "language": "python",
   "name": "python3"
  },
  "language_info": {
   "codemirror_mode": {
    "name": "ipython",
    "version": 3
   },
   "file_extension": ".py",
   "mimetype": "text/x-python",
   "name": "python",
   "nbconvert_exporter": "python",
   "pygments_lexer": "ipython3",
   "version": "3.7.6"
  }
 },
 "nbformat": 4,
 "nbformat_minor": 4
}
