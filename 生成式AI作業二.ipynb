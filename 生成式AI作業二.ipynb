{
  "nbformat": 4,
  "nbformat_minor": 0,
  "metadata": {
    "colab": {
      "provenance": [],
      "gpuType": "T4",
      "authorship_tag": "ABX9TyMIu4hxsG8Xv93gNGFMko4x",
      "include_colab_link": true
    },
    "kernelspec": {
      "name": "python3",
      "display_name": "Python 3"
    },
    "language_info": {
      "name": "python"
    },
    "accelerator": "GPU"
  },
  "cells": [
    {
      "cell_type": "markdown",
      "metadata": {
        "id": "view-in-github",
        "colab_type": "text"
      },
      "source": [
        "<a href=\"https://colab.research.google.com/github/arthur422tp/arthur422/blob/master/%E7%94%9F%E6%88%90%E5%BC%8FAI%E4%BD%9C%E6%A5%AD%E4%BA%8C.ipynb\" target=\"_parent\"><img src=\"https://colab.research.google.com/assets/colab-badge.svg\" alt=\"Open In Colab\"/></a>"
      ]
    },
    {
      "cell_type": "markdown",
      "source": [
        "主題三"
      ],
      "metadata": {
        "id": "GCv2JwlpeOrI"
      }
    },
    {
      "cell_type": "code",
      "execution_count": 14,
      "metadata": {
        "id": "fWJ-C2eLOiky"
      },
      "outputs": [],
      "source": [
        "import numpy as np\n",
        "\n",
        "\n",
        "def entropy(p):\n",
        "    '''\n",
        "    以下為手刻的entropy函數code\n",
        "    '''\n",
        "    p_array = np.array(p)   #確保輸入的p是一個np.array\n",
        "    prob_distri_p = p_array / np.sum(p_array) #p必須是一個機率分布，考慮到之後想要以隨機方式生成p的array，在這裡對p先做一次normalization\n",
        "    return np.sum(-prob_distri_p* np.log2(prob_distri_p)) #根據entropy函數的定義，回傳。\n",
        "\n",
        "def kl_divergence(p, q):\n",
        "    '''\n",
        "    以下為手刻的kl_divergence函數code\n",
        "    '''\n",
        "    p_array = np.array(p)\n",
        "    prob_distri_p = p_array / np.sum(p_array)\n",
        "    q_array = np.array(q)\n",
        "    prob_distri_q = q_array / np.sum(q_array)\n",
        "    #同entropy函數的前置處理\n",
        "\n",
        "    return np.sum(prob_distri_p * np.log2(prob_distri_p / prob_distri_q)) #根據kl_divergence的定義，回傳。"
      ]
    },
    {
      "cell_type": "code",
      "source": [
        "###最近太操電腦了，怕它罷工，隨機生成一維、長度為50的np.array就好\n",
        "length = 50\n",
        "p = np.random.rand(length)\n",
        "q = np.random.rand(length)"
      ],
      "metadata": {
        "id": "uaDHEZsHVqqQ"
      },
      "execution_count": 15,
      "outputs": []
    },
    {
      "cell_type": "code",
      "source": [
        "###看看長怎樣\n",
        "print(p)\n",
        "print(q)"
      ],
      "metadata": {
        "id": "kNqjrw4JOrPJ",
        "colab": {
          "base_uri": "https://localhost:8080/"
        },
        "outputId": "e09d85c4-ef3b-405f-d52f-bde0fbdd1bb9"
      },
      "execution_count": 16,
      "outputs": [
        {
          "output_type": "stream",
          "name": "stdout",
          "text": [
            "[0.7725165  0.41845132 0.2600404  0.64261794 0.99972604 0.78650246\n",
            " 0.82810721 0.37450333 0.75523616 0.36074425 0.71072336 0.70352298\n",
            " 0.12368534 0.89989927 0.28759198 0.81026153 0.35053136 0.35838979\n",
            " 0.05447561 0.76710249 0.71759755 0.79885392 0.02776552 0.73040854\n",
            " 0.78550883 0.17782021 0.58311286 0.61306456 0.18652052 0.05657806\n",
            " 0.96531364 0.34285723 0.1655783  0.08868895 0.98581509 0.64040308\n",
            " 0.5022973  0.91673979 0.33443667 0.02403941 0.90328718 0.02079154\n",
            " 0.35068913 0.95581072 0.30166827 0.02421347 0.69356561 0.38612554\n",
            " 0.65691916 0.39422207]\n",
            "[0.19165056 0.71939386 0.72832801 0.64057084 0.70210212 0.60184625\n",
            " 0.41689795 0.98015975 0.73819671 0.69658543 0.8535547  0.59108886\n",
            " 0.63047081 0.97038626 0.78748098 0.48867687 0.06613997 0.85781552\n",
            " 0.18059079 0.616107   0.06658377 0.81694464 0.51593219 0.41669563\n",
            " 0.90163546 0.91604759 0.01317102 0.71251391 0.84693034 0.58652308\n",
            " 0.78965867 0.46933163 0.58093604 0.65810146 0.25681087 0.15270115\n",
            " 0.09763398 0.91831184 0.21222297 0.82570461 0.08843228 0.9447008\n",
            " 0.61142033 0.64991378 0.53203289 0.19304425 0.47936093 0.20308174\n",
            " 0.44565313 0.01801445]\n"
          ]
        }
      ]
    },
    {
      "cell_type": "code",
      "source": [
        "###看看成果\n",
        "entropy(p)"
      ],
      "metadata": {
        "colab": {
          "base_uri": "https://localhost:8080/"
        },
        "id": "Np-HTra3Q0yT",
        "outputId": "b8fbb07f-29d5-4e41-8f7f-d1eb03781d6f"
      },
      "execution_count": 17,
      "outputs": [
        {
          "output_type": "execute_result",
          "data": {
            "text/plain": [
              "5.336602686423406"
            ]
          },
          "metadata": {},
          "execution_count": 17
        }
      ]
    },
    {
      "cell_type": "code",
      "source": [
        "entropy(q)"
      ],
      "metadata": {
        "colab": {
          "base_uri": "https://localhost:8080/"
        },
        "id": "B5r2_-tzRN2I",
        "outputId": "b960b1b6-41b4-4243-efc5-b98fcf23f02a"
      },
      "execution_count": 18,
      "outputs": [
        {
          "output_type": "execute_result",
          "data": {
            "text/plain": [
              "5.399724775959356"
            ]
          },
          "metadata": {},
          "execution_count": 18
        }
      ]
    },
    {
      "cell_type": "code",
      "source": [
        "kl_divergence(p, q)"
      ],
      "metadata": {
        "colab": {
          "base_uri": "https://localhost:8080/"
        },
        "id": "KG-PC6h7QdbI",
        "outputId": "b53a3115-0f6b-42ac-f7fe-bf3782b27ae5"
      },
      "execution_count": 19,
      "outputs": [
        {
          "output_type": "execute_result",
          "data": {
            "text/plain": [
              "0.7428165439388446"
            ]
          },
          "metadata": {},
          "execution_count": 19
        }
      ]
    },
    {
      "cell_type": "code",
      "source": [
        "kl_divergence(q, p)\n"
      ],
      "metadata": {
        "colab": {
          "base_uri": "https://localhost:8080/"
        },
        "id": "6xUu3zKMWAFG",
        "outputId": "56a32424-cd0e-48d1-b080-0de2f6408fe6"
      },
      "execution_count": 20,
      "outputs": [
        {
          "output_type": "execute_result",
          "data": {
            "text/plain": [
              "0.8114673251050081"
            ]
          },
          "metadata": {},
          "execution_count": 20
        }
      ]
    },
    {
      "cell_type": "markdown",
      "source": [
        "這邊可以注意到kl_divergence並沒有symmetric的性質。\n"
      ],
      "metadata": {
        "id": "mSL03XDJXZAX"
      }
    },
    {
      "cell_type": "markdown",
      "source": [
        "下面作一些可視化的處理"
      ],
      "metadata": {
        "id": "tqi98P3UcKMh"
      }
    },
    {
      "cell_type": "code",
      "source": [
        "prob_distri_p = p / np.sum(p)\n",
        "prob_distri_q = q / np.sum(q)\n",
        "kl_result = kl_divergence(prob_distri_p, prob_distri_q)\n",
        "entropy_p = entropy(prob_distri_p)\n",
        "entropy_q = entropy(prob_distri_q)"
      ],
      "metadata": {
        "id": "Y_7tVL6PYIwC"
      },
      "execution_count": 21,
      "outputs": []
    },
    {
      "cell_type": "code",
      "source": [
        "import matplotlib.pyplot as plt\n",
        "plt.bar(range(len(prob_distri_p)), prob_distri_p, color = 'blue', alpha=0.7, label='P(x)')\n",
        "plt.title(f'entropy_p: {entropy_p:.4f}')\n",
        "plt.xlabel('Index')\n",
        "plt.ylabel('Probability')\n",
        "plt.legend()\n",
        "plt.show()"
      ],
      "metadata": {
        "colab": {
          "base_uri": "https://localhost:8080/",
          "height": 471
        },
        "id": "4dRfAdMbZKTh",
        "outputId": "b241acd6-1960-4116-af49-8ceeb919729b"
      },
      "execution_count": 22,
      "outputs": [
        {
          "output_type": "display_data",
          "data": {
            "text/plain": [
              "<Figure size 640x480 with 1 Axes>"
            ],
            "image/png": "[encoded data removed]"
          },
          "metadata": {}
        }
      ]
    },
    {
      "cell_type": "code",
      "source": [
        "plt.bar(range(len(prob_distri_q)), prob_distri_q, color = 'green', alpha=0.7, label='Q(x)')\n",
        "plt.title(f'entropy_q: {entropy_q:.4f}')\n",
        "plt.xlabel('Index')\n",
        "plt.ylabel('Probability')\n",
        "plt.legend()\n",
        "plt.show()"
      ],
      "metadata": {
        "colab": {
          "base_uri": "https://localhost:8080/",
          "height": 471
        },
        "id": "RnK_AmtnaFcp",
        "outputId": "e1daa2ff-4d37-497b-a23f-e9c459c4bbfe"
      },
      "execution_count": 23,
      "outputs": [
        {
          "output_type": "display_data",
          "data": {
            "text/plain": [
              "<Figure size 640x480 with 1 Axes>"
            ],
            "image/png": "[encoded data removed]"
          },
          "metadata": {}
        }
      ]
    },
    {
      "cell_type": "code",
      "source": [
        "\n"
      ],
      "metadata": {
        "id": "zoRLWm6VWBK-"
      },
      "execution_count": 28,
      "outputs": []
    },
    {
      "cell_type": "code",
      "source": [
        "kl_result"
      ],
      "metadata": {
        "id": "2S-Qv0p8YrzO",
        "colab": {
          "base_uri": "https://localhost:8080/"
        },
        "outputId": "08493538-f7d2-4a40-ffb3-317db8483a05"
      },
      "execution_count": 28,
      "outputs": [
        {
          "output_type": "execute_result",
          "data": {
            "text/plain": [
              "0.7428165439388438"
            ]
          },
          "metadata": {},
          "execution_count": 28
        }
      ]
    },
    {
      "cell_type": "code",
      "source": [],
      "metadata": {
        "id": "3MaNMODj3Hf3"
      },
      "execution_count": 25,
      "outputs": []
    }
  ]
}