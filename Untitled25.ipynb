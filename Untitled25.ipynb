{
 "cells": [
  {
   "cell_type": "code",
   "execution_count": null,
   "metadata": {},
   "outputs": [],
   "source": [
    "A=('輸入本日日期.月/日或輸入0以結算:')  \n",
    "  \n",
    "while True:\n",
    "     A=input('輸入本日日期.月/日或輸入停止以結算:')  \n",
    "     if '停止' in A:\n",
    "          print('感謝使用<3')\n",
    "          break\n",
    "     if A!=0:\n",
    "               print(\"輸入本日預算:\",end='')\n",
    "               B=int(input())\n",
    "               print(\"早餐:\", end='')\n",
    "               breakfast = int(input())\n",
    "               print(\"午餐:\", end='')\n",
    "               lunch = int(input())\n",
    "               print(\"下午茶:\", end='')\n",
    "               snack1 = int(input())\n",
    "               print(\"晚餐:\", end='')\n",
    "               dinner = int(input())\n",
    "               print(\"宵夜:\", end='')\n",
    "               snack2 = int(input())\n",
    "               total = (breakfast + lunch + snack1 + dinner + snack2)\n",
    "          \n",
    "               if (snack1 + snack2) > B:\n",
    "                    if total > B:\n",
    "                         print (\"今日餐飲總消費金額為\", total, \n",
    "                                   \"元。吃太多，超出預算啦！明日也請記得記帳。\")\n",
    "                    else:\n",
    "                         print (\"今日餐飲總消費金額為\", total, \n",
    "                                   \"元。今天沒有超出預算，很棒！明日也請記得記帳。\")\n",
    "               else:\n",
    "                    if total > B:\n",
    "                         print (\"今日餐飲總消費金額為\", total, \n",
    "                                   \"元。吃太多，超出預算啦！明日也請記得記帳。\")\n",
    "                    else:\n",
    "                         print (\"今日餐飲總消費金額為\", total, \n",
    "                                   \"元。今天沒有超出預算，很棒！明日也請記得記帳。\")\n",
    "              \n"
   ]
  },
  {
   "cell_type": "code",
   "execution_count": null,
   "metadata": {},
   "outputs": [],
   "source": []
  }
 ],
 "metadata": {
  "kernelspec": {
   "display_name": "Python 3",
   "language": "python",
   "name": "python3"
  },
  "language_info": {
   "codemirror_mode": {
    "name": "ipython",
    "version": 3
   },
   "file_extension": ".py",
   "mimetype": "text/x-python",
   "name": "python",
   "nbconvert_exporter": "python",
   "pygments_lexer": "ipython3",
   "version": "3.7.3"
  }
 },
 "nbformat": 4,
 "nbformat_minor": 2
}
