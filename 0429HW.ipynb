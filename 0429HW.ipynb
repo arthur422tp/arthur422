{
 "cells": [
  {
   "cell_type": "code",
   "execution_count": 1,
   "metadata": {},
   "outputs": [],
   "source": [
    "%matplotlib inline\n",
    "\n",
    "import numpy as np\n",
    "import matplotlib.pyplot as plt\n",
    "import pandas as pd"
   ]
  },
  {
   "cell_type": "markdown",
   "metadata": {},
   "source": [
    "### 讀入套件"
   ]
  },
  {
   "cell_type": "code",
   "execution_count": 3,
   "metadata": {},
   "outputs": [],
   "source": [
    "from tensorflow.keras.preprocessing import sequence\n",
    "from tensorflow.keras.models import Sequential\n",
    "from tensorflow.keras.layers import Dense, Embedding\n",
    "from tensorflow.keras.layers import LSTM\n",
    "from tensorflow.keras.datasets import imdb"
   ]
  },
  {
   "cell_type": "markdown",
   "metadata": {},
   "source": [
    "### data"
   ]
  },
  {
   "cell_type": "code",
   "execution_count": 11,
   "metadata": {},
   "outputs": [],
   "source": [
    "(x_train, y_train), (x_test, y_test) = imdb.load_data(num_words=10000)"
   ]
  },
  {
   "cell_type": "markdown",
   "metadata": {},
   "source": [
    "### 資料處理"
   ]
  },
  {
   "cell_type": "code",
   "execution_count": 34,
   "metadata": {},
   "outputs": [],
   "source": [
    "x_train = sequence.pad_sequences(x_train, maxlen=100)\n",
    "x_test = sequence.pad_sequences(x_test, maxlen=100)\n"
   ]
  },
  {
   "cell_type": "markdown",
   "metadata": {},
   "source": [
    "### 建立一個函數學習機"
   ]
  },
  {
   "cell_type": "code",
   "execution_count": 35,
   "metadata": {},
   "outputs": [],
   "source": [
    "model = Sequential()"
   ]
  },
  {
   "cell_type": "code",
   "execution_count": 36,
   "metadata": {},
   "outputs": [],
   "source": [
    "model.add(Embedding(10000, 150))#128維改為150維試試看"
   ]
  },
  {
   "cell_type": "code",
   "execution_count": 37,
   "metadata": {},
   "outputs": [],
   "source": [
    "model.add(LSTM(150, dropout=0.5, recurrent_dropout=0.5)) #更改dropout為0.5"
   ]
  },
  {
   "cell_type": "code",
   "execution_count": 38,
   "metadata": {},
   "outputs": [],
   "source": [
    "model.add(Dense(1, activation='sigmoid'))"
   ]
  },
  {
   "cell_type": "code",
   "execution_count": 39,
   "metadata": {},
   "outputs": [],
   "source": [
    "model.compile(loss='binary_crossentropy',\n",
    "             optimizer='adam',\n",
    "             metrics=['accuracy'])"
   ]
  },
  {
   "cell_type": "code",
   "execution_count": 40,
   "metadata": {},
   "outputs": [
    {
     "name": "stdout",
     "output_type": "stream",
     "text": [
      "Model: \"sequential_2\"\n",
      "_________________________________________________________________\n",
      "Layer (type)                 Output Shape              Param #   \n",
      "=================================================================\n",
      "embedding_6 (Embedding)      (None, None, 150)         1500000   \n",
      "_________________________________________________________________\n",
      "lstm_9 (LSTM)                (None, 150)               180600    \n",
      "_________________________________________________________________\n",
      "dense_2 (Dense)              (None, 1)                 151       \n",
      "=================================================================\n",
      "Total params: 1,680,751\n",
      "Trainable params: 1,680,751\n",
      "Non-trainable params: 0\n",
      "_________________________________________________________________\n"
     ]
    }
   ],
   "source": [
    "model.summary()"
   ]
  },
  {
   "cell_type": "code",
   "execution_count": 33,
   "metadata": {},
   "outputs": [
    {
     "data": {
      "text/plain": [
       "180600"
      ]
     },
     "execution_count": 33,
     "metadata": {},
     "output_type": "execute_result"
    }
   ],
   "source": [
    "(150+150+1)*4*150"
   ]
  },
  {
   "cell_type": "markdown",
   "metadata": {},
   "source": [
    "### 訓練"
   ]
  },
  {
   "cell_type": "code",
   "execution_count": 42,
   "metadata": {},
   "outputs": [
    {
     "name": "stdout",
     "output_type": "stream",
     "text": [
      "Train on 25000 samples, validate on 25000 samples\n",
      "Epoch 1/15\n",
      "25000/25000 [==============================] - 136s 5ms/sample - loss: 0.4397 - acc: 0.8004 - val_loss: 0.3760 - val_acc: 0.8426\n",
      "Epoch 2/15\n",
      "25000/25000 [==============================] - 147s 6ms/sample - loss: 0.3535 - acc: 0.8525 - val_loss: 0.3722 - val_acc: 0.8419\n",
      "Epoch 3/15\n",
      "25000/25000 [==============================] - 177s 7ms/sample - loss: 0.2934 - acc: 0.8792 - val_loss: 0.3677 - val_acc: 0.8488\n",
      "Epoch 4/15\n",
      "25000/25000 [==============================] - 177s 7ms/sample - loss: 0.2440 - acc: 0.9044 - val_loss: 0.4368 - val_acc: 0.8385\n",
      "Epoch 5/15\n",
      "25000/25000 [==============================] - 186s 7ms/sample - loss: 0.2074 - acc: 0.9195 - val_loss: 0.4039 - val_acc: 0.8480\n",
      "Epoch 6/15\n",
      "25000/25000 [==============================] - 185s 7ms/sample - loss: 0.1722 - acc: 0.9353 - val_loss: 0.4429 - val_acc: 0.8346\n",
      "Epoch 7/15\n",
      "25000/25000 [==============================] - 178s 7ms/sample - loss: 0.1487 - acc: 0.9436 - val_loss: 0.4751 - val_acc: 0.8408\n",
      "Epoch 8/15\n",
      "25000/25000 [==============================] - 178s 7ms/sample - loss: 0.1259 - acc: 0.9542 - val_loss: 0.4978 - val_acc: 0.8330\n",
      "Epoch 9/15\n",
      "25000/25000 [==============================] - 178s 7ms/sample - loss: 0.1068 - acc: 0.9613 - val_loss: 0.5398 - val_acc: 0.8353\n",
      "Epoch 10/15\n",
      "25000/25000 [==============================] - 178s 7ms/sample - loss: 0.0888 - acc: 0.9693 - val_loss: 0.6088 - val_acc: 0.8290\n",
      "Epoch 11/15\n",
      "25000/25000 [==============================] - 179s 7ms/sample - loss: 0.0790 - acc: 0.9732 - val_loss: 0.6435 - val_acc: 0.8300\n",
      "Epoch 12/15\n",
      "25000/25000 [==============================] - 180s 7ms/sample - loss: 0.0677 - acc: 0.9764 - val_loss: 0.7005 - val_acc: 0.8260\n",
      "Epoch 13/15\n",
      "25000/25000 [==============================] - 178s 7ms/sample - loss: 0.0555 - acc: 0.9812 - val_loss: 0.7367 - val_acc: 0.8286\n",
      "Epoch 14/15\n",
      "25000/25000 [==============================] - 179s 7ms/sample - loss: 0.0485 - acc: 0.9835 - val_loss: 0.7538 - val_acc: 0.8270\n",
      "Epoch 15/15\n",
      "25000/25000 [==============================] - 180s 7ms/sample - loss: 0.0407 - acc: 0.9865 - val_loss: 0.8226 - val_acc: 0.8234\n"
     ]
    },
    {
     "data": {
      "text/plain": [
       "<tensorflow.python.keras.callbacks.History at 0x2259b0f1dc8>"
      ]
     },
     "execution_count": 42,
     "metadata": {},
     "output_type": "execute_result"
    }
   ],
   "source": [
    "model.fit(x_train, y_train, batch_size=32, epochs=15,\n",
    "         validation_data=(x_test, y_test))\n",
    "#訓練多次一點改為15次"
   ]
  },
  {
   "cell_type": "code",
   "execution_count": null,
   "metadata": {},
   "outputs": [],
   "source": []
  },
  {
   "cell_type": "code",
   "execution_count": null,
   "metadata": {},
   "outputs": [],
   "source": []
  }
 ],
 "metadata": {
  "kernelspec": {
   "display_name": "Python 3",
   "language": "python",
   "name": "python3"
  },
  "language_info": {
   "codemirror_mode": {
    "name": "ipython",
    "version": 3
   },
   "file_extension": ".py",
   "mimetype": "text/x-python",
   "name": "python",
   "nbconvert_exporter": "python",
   "pygments_lexer": "ipython3",
   "version": "3.7.6"
  }
 },
 "nbformat": 4,
 "nbformat_minor": 4
}
